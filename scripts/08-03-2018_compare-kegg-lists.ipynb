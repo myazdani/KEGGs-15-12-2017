{
 "cells": [
  {
   "cell_type": "markdown",
   "metadata": {},
   "source": [
    "# Compare KEGG lists\n",
    "\n",
    "Notebook for comparing different KEGG candidates as produced by different methods"
   ]
  },
  {
   "cell_type": "code",
   "execution_count": 1,
   "metadata": {
    "collapsed": false
   },
   "outputs": [
    {
     "name": "stderr",
     "output_type": "stream",
     "text": [
      "Vendor:  Continuum Analytics, Inc.\n",
      "Package: mkl\n",
      "Message: trial mode expires in 30 days\n"
     ]
    }
   ],
   "source": [
    "import pandas as pd\n",
    "import numpy as np\n",
    "\n",
    "import matplotlib.pylab as plt\n",
    "%matplotlib inline"
   ]
  },
  {
   "cell_type": "code",
   "execution_count": 2,
   "metadata": {
    "collapsed": false
   },
   "outputs": [
    {
     "name": "stdout",
     "output_type": "stream",
     "text": [
      "('pca df shape:', (10193, 6))\n"
     ]
    },
    {
     "data": {
      "text/html": [
       "<div>\n",
       "<style scoped>\n",
       "    .dataframe tbody tr th:only-of-type {\n",
       "        vertical-align: middle;\n",
       "    }\n",
       "\n",
       "    .dataframe tbody tr th {\n",
       "        vertical-align: top;\n",
       "    }\n",
       "\n",
       "    .dataframe thead th {\n",
       "        text-align: right;\n",
       "    }\n",
       "</style>\n",
       "<table border=\"1\" class=\"dataframe\">\n",
       "  <thead>\n",
       "    <tr style=\"text-align: right;\">\n",
       "      <th></th>\n",
       "      <th>name</th>\n",
       "      <th>ks_score</th>\n",
       "      <th>ks_sign</th>\n",
       "      <th>p_value</th>\n",
       "      <th>t_test_p_value</th>\n",
       "      <th>diff_means</th>\n",
       "    </tr>\n",
       "  </thead>\n",
       "  <tbody>\n",
       "    <tr>\n",
       "      <th>0</th>\n",
       "      <td>K00867.type_I_pantothenate_kinase.</td>\n",
       "      <td>0.971429</td>\n",
       "      <td>-</td>\n",
       "      <td>3.613776e-13</td>\n",
       "      <td>9.208640e-04</td>\n",
       "      <td>-0.000070</td>\n",
       "    </tr>\n",
       "    <tr>\n",
       "      <th>1</th>\n",
       "      <td>K04108.4.hydroxybenzoyl.CoA_reductase_subunit_...</td>\n",
       "      <td>0.942857</td>\n",
       "      <td>-</td>\n",
       "      <td>1.917799e-12</td>\n",
       "      <td>1.018815e-05</td>\n",
       "      <td>-0.000078</td>\n",
       "    </tr>\n",
       "    <tr>\n",
       "      <th>2</th>\n",
       "      <td>K00721.dolichol.phosphate_mannosyltransferase.</td>\n",
       "      <td>0.942857</td>\n",
       "      <td>+</td>\n",
       "      <td>1.917799e-12</td>\n",
       "      <td>4.795360e-14</td>\n",
       "      <td>0.000444</td>\n",
       "    </tr>\n",
       "    <tr>\n",
       "      <th>3</th>\n",
       "      <td>K03753.molybdopterin.guanine_dinucleotide_bios...</td>\n",
       "      <td>0.935714</td>\n",
       "      <td>-</td>\n",
       "      <td>2.575939e-12</td>\n",
       "      <td>1.185121e-06</td>\n",
       "      <td>-0.000066</td>\n",
       "    </tr>\n",
       "    <tr>\n",
       "      <th>4</th>\n",
       "      <td>K13641.IclR_family_transcriptional_regulator._...</td>\n",
       "      <td>0.935714</td>\n",
       "      <td>-</td>\n",
       "      <td>2.575939e-12</td>\n",
       "      <td>1.708861e-04</td>\n",
       "      <td>-0.000159</td>\n",
       "    </tr>\n",
       "  </tbody>\n",
       "</table>\n",
       "</div>"
      ],
      "text/plain": [
       "                                                name  ks_score ks_sign  \\\n",
       "0                 K00867.type_I_pantothenate_kinase.  0.971429       -   \n",
       "1  K04108.4.hydroxybenzoyl.CoA_reductase_subunit_...  0.942857       -   \n",
       "2     K00721.dolichol.phosphate_mannosyltransferase.  0.942857       +   \n",
       "3  K03753.molybdopterin.guanine_dinucleotide_bios...  0.935714       -   \n",
       "4  K13641.IclR_family_transcriptional_regulator._...  0.935714       -   \n",
       "\n",
       "        p_value  t_test_p_value  diff_means  \n",
       "0  3.613776e-13    9.208640e-04   -0.000070  \n",
       "1  1.917799e-12    1.018815e-05   -0.000078  \n",
       "2  1.917799e-12    4.795360e-14    0.000444  \n",
       "3  2.575939e-12    1.185121e-06   -0.000066  \n",
       "4  2.575939e-12    1.708861e-04   -0.000159  "
      ]
     },
     "execution_count": 2,
     "metadata": {},
     "output_type": "execute_result"
    }
   ],
   "source": [
    "df_pca = pd.read_csv(\"../results/kegg-pca-list.csv\")\n",
    "\n",
    "\n",
    "print(\"pca df shape:\", df_pca.shape)\n",
    "df_pca.head()"
   ]
  },
  {
   "cell_type": "code",
   "execution_count": 3,
   "metadata": {
    "collapsed": false
   },
   "outputs": [
    {
     "name": "stdout",
     "output_type": "stream",
     "text": [
      "('df shape:', (10012, 4))\n"
     ]
    },
    {
     "data": {
      "text/html": [
       "<div>\n",
       "<style scoped>\n",
       "    .dataframe tbody tr th:only-of-type {\n",
       "        vertical-align: middle;\n",
       "    }\n",
       "\n",
       "    .dataframe tbody tr th {\n",
       "        vertical-align: top;\n",
       "    }\n",
       "\n",
       "    .dataframe thead th {\n",
       "        text-align: right;\n",
       "    }\n",
       "</style>\n",
       "<table border=\"1\" class=\"dataframe\">\n",
       "  <thead>\n",
       "    <tr style=\"text-align: right;\">\n",
       "      <th></th>\n",
       "      <th>CD_HE_mean_ratio</th>\n",
       "      <th>KEGG_names</th>\n",
       "      <th>LS_HE_mean_ratio</th>\n",
       "      <th>UC_HE_mean_ratio</th>\n",
       "    </tr>\n",
       "  </thead>\n",
       "  <tbody>\n",
       "    <tr>\n",
       "      <th>0</th>\n",
       "      <td>1.319099</td>\n",
       "      <td>K00001(alcohol_dehydrogenase)</td>\n",
       "      <td>1.689633</td>\n",
       "      <td>1.004756</td>\n",
       "    </tr>\n",
       "    <tr>\n",
       "      <th>1</th>\n",
       "      <td>7.043951</td>\n",
       "      <td>K00002(alcohol_dehydrogenase_(NADP+))</td>\n",
       "      <td>4.649663</td>\n",
       "      <td>0.210511</td>\n",
       "    </tr>\n",
       "    <tr>\n",
       "      <th>2</th>\n",
       "      <td>13.911981</td>\n",
       "      <td>K00003(homoserine_dehydrogenase)</td>\n",
       "      <td>10.850482</td>\n",
       "      <td>1.594664</td>\n",
       "    </tr>\n",
       "    <tr>\n",
       "      <th>3</th>\n",
       "      <td>1.615451</td>\n",
       "      <td>K00004((R,R)-butanediol_dehydrogenase_/_diacet...</td>\n",
       "      <td>4.744729</td>\n",
       "      <td>0.011772</td>\n",
       "    </tr>\n",
       "    <tr>\n",
       "      <th>4</th>\n",
       "      <td>21.931516</td>\n",
       "      <td>K00005(glycerol_dehydrogenase)</td>\n",
       "      <td>21.087698</td>\n",
       "      <td>0.902234</td>\n",
       "    </tr>\n",
       "  </tbody>\n",
       "</table>\n",
       "</div>"
      ],
      "text/plain": [
       "   CD_HE_mean_ratio                                         KEGG_names  \\\n",
       "0          1.319099                      K00001(alcohol_dehydrogenase)   \n",
       "1          7.043951              K00002(alcohol_dehydrogenase_(NADP+))   \n",
       "2         13.911981                   K00003(homoserine_dehydrogenase)   \n",
       "3          1.615451  K00004((R,R)-butanediol_dehydrogenase_/_diacet...   \n",
       "4         21.931516                     K00005(glycerol_dehydrogenase)   \n",
       "\n",
       "   LS_HE_mean_ratio  UC_HE_mean_ratio  \n",
       "0          1.689633          1.004756  \n",
       "1          4.649663          0.210511  \n",
       "2         10.850482          1.594664  \n",
       "3          4.744729          0.011772  \n",
       "4         21.087698          0.902234  "
      ]
     },
     "execution_count": 3,
     "metadata": {},
     "output_type": "execute_result"
    }
   ],
   "source": [
    "df_extreme_mean = pd.read_csv(\"../results/KEGG-mean-HE-ratios-03-01-2018.csv\")\n",
    "\n",
    "print(\"df shape:\", df_extreme_mean.shape)\n",
    "df_extreme_mean.head()"
   ]
  },
  {
   "cell_type": "code",
   "execution_count": 4,
   "metadata": {
    "collapsed": false
   },
   "outputs": [
    {
     "name": "stdout",
     "output_type": "stream",
     "text": [
      "('df shape:', (10012, 4))\n"
     ]
    },
    {
     "data": {
      "text/html": [
       "<div>\n",
       "<style scoped>\n",
       "    .dataframe tbody tr th:only-of-type {\n",
       "        vertical-align: middle;\n",
       "    }\n",
       "\n",
       "    .dataframe tbody tr th {\n",
       "        vertical-align: top;\n",
       "    }\n",
       "\n",
       "    .dataframe thead th {\n",
       "        text-align: right;\n",
       "    }\n",
       "</style>\n",
       "<table border=\"1\" class=\"dataframe\">\n",
       "  <thead>\n",
       "    <tr style=\"text-align: right;\">\n",
       "      <th></th>\n",
       "      <th>CD_HE_median_ratio</th>\n",
       "      <th>KEGG_names</th>\n",
       "      <th>LS_HE_median_ratio</th>\n",
       "      <th>UC_HE_median_ratio</th>\n",
       "    </tr>\n",
       "  </thead>\n",
       "  <tbody>\n",
       "    <tr>\n",
       "      <th>0</th>\n",
       "      <td>1.377436</td>\n",
       "      <td>K00001(alcohol_dehydrogenase)</td>\n",
       "      <td>1.785583</td>\n",
       "      <td>0.998465</td>\n",
       "    </tr>\n",
       "    <tr>\n",
       "      <th>1</th>\n",
       "      <td>4.887280</td>\n",
       "      <td>K00002(alcohol_dehydrogenase_(NADP+))</td>\n",
       "      <td>2.597071</td>\n",
       "      <td>0.751038</td>\n",
       "    </tr>\n",
       "    <tr>\n",
       "      <th>2</th>\n",
       "      <td>4.087813</td>\n",
       "      <td>K00003(homoserine_dehydrogenase)</td>\n",
       "      <td>3.138586</td>\n",
       "      <td>0.578820</td>\n",
       "    </tr>\n",
       "    <tr>\n",
       "      <th>3</th>\n",
       "      <td>5.447837</td>\n",
       "      <td>K00004((R,R)-butanediol_dehydrogenase_/_diacet...</td>\n",
       "      <td>5.358153</td>\n",
       "      <td>0.838109</td>\n",
       "    </tr>\n",
       "    <tr>\n",
       "      <th>4</th>\n",
       "      <td>4.884947</td>\n",
       "      <td>K00005(glycerol_dehydrogenase)</td>\n",
       "      <td>5.966119</td>\n",
       "      <td>1.313708</td>\n",
       "    </tr>\n",
       "  </tbody>\n",
       "</table>\n",
       "</div>"
      ],
      "text/plain": [
       "   CD_HE_median_ratio                                         KEGG_names  \\\n",
       "0            1.377436                      K00001(alcohol_dehydrogenase)   \n",
       "1            4.887280              K00002(alcohol_dehydrogenase_(NADP+))   \n",
       "2            4.087813                   K00003(homoserine_dehydrogenase)   \n",
       "3            5.447837  K00004((R,R)-butanediol_dehydrogenase_/_diacet...   \n",
       "4            4.884947                     K00005(glycerol_dehydrogenase)   \n",
       "\n",
       "   LS_HE_median_ratio  UC_HE_median_ratio  \n",
       "0            1.785583            0.998465  \n",
       "1            2.597071            0.751038  \n",
       "2            3.138586            0.578820  \n",
       "3            5.358153            0.838109  \n",
       "4            5.966119            1.313708  "
      ]
     },
     "execution_count": 4,
     "metadata": {},
     "output_type": "execute_result"
    }
   ],
   "source": [
    "df_extreme_median = pd.read_csv(\"../results/KEGG-median-HE-ratios-15-12-2017.csv\")\n",
    "\n",
    "print(\"df shape:\", df_extreme_median.shape)\n",
    "\n",
    "df_extreme_median.head()"
   ]
  },
  {
   "cell_type": "code",
   "execution_count": 5,
   "metadata": {
    "collapsed": false
   },
   "outputs": [
    {
     "name": "stdout",
     "output_type": "stream",
     "text": [
      "(267, 4)\n"
     ]
    },
    {
     "data": {
      "text/html": [
       "<div>\n",
       "<style scoped>\n",
       "    .dataframe tbody tr th:only-of-type {\n",
       "        vertical-align: middle;\n",
       "    }\n",
       "\n",
       "    .dataframe tbody tr th {\n",
       "        vertical-align: top;\n",
       "    }\n",
       "\n",
       "    .dataframe thead th {\n",
       "        text-align: right;\n",
       "    }\n",
       "</style>\n",
       "<table border=\"1\" class=\"dataframe\">\n",
       "  <thead>\n",
       "    <tr style=\"text-align: right;\">\n",
       "      <th></th>\n",
       "      <th>CD_HE_median_ratio</th>\n",
       "      <th>KEGG_names</th>\n",
       "      <th>LS_HE_median_ratio</th>\n",
       "      <th>UC_HE_median_ratio</th>\n",
       "    </tr>\n",
       "  </thead>\n",
       "  <tbody>\n",
       "    <tr>\n",
       "      <th>0</th>\n",
       "      <td>1.377436</td>\n",
       "      <td>K00001(alcohol_dehydrogenase)</td>\n",
       "      <td>1.785583</td>\n",
       "      <td>0.998465</td>\n",
       "    </tr>\n",
       "    <tr>\n",
       "      <th>1</th>\n",
       "      <td>4.087813</td>\n",
       "      <td>K00003(homoserine_dehydrogenase)</td>\n",
       "      <td>3.138586</td>\n",
       "      <td>0.578820</td>\n",
       "    </tr>\n",
       "    <tr>\n",
       "      <th>2</th>\n",
       "      <td>5.447837</td>\n",
       "      <td>K00004((R,R)-butanediol_dehydrogenase_/_diacet...</td>\n",
       "      <td>5.358153</td>\n",
       "      <td>0.838109</td>\n",
       "    </tr>\n",
       "    <tr>\n",
       "      <th>3</th>\n",
       "      <td>4.884947</td>\n",
       "      <td>K00005(glycerol_dehydrogenase)</td>\n",
       "      <td>5.966119</td>\n",
       "      <td>1.313708</td>\n",
       "    </tr>\n",
       "    <tr>\n",
       "      <th>4</th>\n",
       "      <td>4.607254</td>\n",
       "      <td>K00011(aldehyde_reductase)</td>\n",
       "      <td>1.753996</td>\n",
       "      <td>2.296813</td>\n",
       "    </tr>\n",
       "  </tbody>\n",
       "</table>\n",
       "</div>"
      ],
      "text/plain": [
       "   CD_HE_median_ratio                                         KEGG_names  \\\n",
       "0            1.377436                      K00001(alcohol_dehydrogenase)   \n",
       "1            4.087813                   K00003(homoserine_dehydrogenase)   \n",
       "2            5.447837  K00004((R,R)-butanediol_dehydrogenase_/_diacet...   \n",
       "3            4.884947                     K00005(glycerol_dehydrogenase)   \n",
       "4            4.607254                         K00011(aldehyde_reductase)   \n",
       "\n",
       "   LS_HE_median_ratio  UC_HE_median_ratio  \n",
       "0            1.785583            0.998465  \n",
       "1            3.138586            0.578820  \n",
       "2            5.358153            0.838109  \n",
       "3            5.966119            1.313708  \n",
       "4            1.753996            2.296813  "
      ]
     },
     "execution_count": 5,
     "metadata": {},
     "output_type": "execute_result"
    }
   ],
   "source": [
    "df_ayasdi_group_4 = pd.read_csv(\"../results/ayasdi/ayasdi-group-4_21-12-2017.csv\")\n",
    "\n",
    "print(df_ayasdi_group_4.shape)\n",
    "df_ayasdi_group_4.head()"
   ]
  },
  {
   "cell_type": "code",
   "execution_count": 6,
   "metadata": {
    "collapsed": false
   },
   "outputs": [
    {
     "name": "stdout",
     "output_type": "stream",
     "text": [
      "(272, 4)\n"
     ]
    },
    {
     "data": {
      "text/html": [
       "<div>\n",
       "<style scoped>\n",
       "    .dataframe tbody tr th:only-of-type {\n",
       "        vertical-align: middle;\n",
       "    }\n",
       "\n",
       "    .dataframe tbody tr th {\n",
       "        vertical-align: top;\n",
       "    }\n",
       "\n",
       "    .dataframe thead th {\n",
       "        text-align: right;\n",
       "    }\n",
       "</style>\n",
       "<table border=\"1\" class=\"dataframe\">\n",
       "  <thead>\n",
       "    <tr style=\"text-align: right;\">\n",
       "      <th></th>\n",
       "      <th>CD_HE_median_ratio</th>\n",
       "      <th>KEGG_names</th>\n",
       "      <th>LS_HE_median_ratio</th>\n",
       "      <th>UC_HE_median_ratio</th>\n",
       "    </tr>\n",
       "  </thead>\n",
       "  <tbody>\n",
       "    <tr>\n",
       "      <th>0</th>\n",
       "      <td>1.904074</td>\n",
       "      <td>K00457(4-hydroxyphenylpyruvate_dioxygenase)</td>\n",
       "      <td>2.234622</td>\n",
       "      <td>0.000045</td>\n",
       "    </tr>\n",
       "    <tr>\n",
       "      <th>1</th>\n",
       "      <td>1.000000</td>\n",
       "      <td>K00660(chalcone_synthase)</td>\n",
       "      <td>1.000000</td>\n",
       "      <td>1.000000</td>\n",
       "    </tr>\n",
       "    <tr>\n",
       "      <th>2</th>\n",
       "      <td>3.228943</td>\n",
       "      <td>K00821(acetylornithine/N-succinyldiaminopimela...</td>\n",
       "      <td>3.583197</td>\n",
       "      <td>0.531882</td>\n",
       "    </tr>\n",
       "    <tr>\n",
       "      <th>3</th>\n",
       "      <td>1.719006</td>\n",
       "      <td>K00868(pyridoxine_kinase)</td>\n",
       "      <td>1.499722</td>\n",
       "      <td>0.809106</td>\n",
       "    </tr>\n",
       "    <tr>\n",
       "      <th>4</th>\n",
       "      <td>4618.807672</td>\n",
       "      <td>K00883(2-dehydro-3-deoxygalactonokinase)</td>\n",
       "      <td>40268.472348</td>\n",
       "      <td>6389.835896</td>\n",
       "    </tr>\n",
       "  </tbody>\n",
       "</table>\n",
       "</div>"
      ],
      "text/plain": [
       "   CD_HE_median_ratio                                         KEGG_names  \\\n",
       "0            1.904074        K00457(4-hydroxyphenylpyruvate_dioxygenase)   \n",
       "1            1.000000                          K00660(chalcone_synthase)   \n",
       "2            3.228943  K00821(acetylornithine/N-succinyldiaminopimela...   \n",
       "3            1.719006                          K00868(pyridoxine_kinase)   \n",
       "4         4618.807672           K00883(2-dehydro-3-deoxygalactonokinase)   \n",
       "\n",
       "   LS_HE_median_ratio  UC_HE_median_ratio  \n",
       "0            2.234622            0.000045  \n",
       "1            1.000000            1.000000  \n",
       "2            3.583197            0.531882  \n",
       "3            1.499722            0.809106  \n",
       "4        40268.472348         6389.835896  "
      ]
     },
     "execution_count": 6,
     "metadata": {},
     "output_type": "execute_result"
    }
   ],
   "source": [
    "df_ayasdi_group_6 = pd.read_csv(\"../results/ayasdi/ayasdi-group-6_21-12-2017.csv\")\n",
    "print(df_ayasdi_group_6.shape)\n",
    "df_ayasdi_group_6.head()"
   ]
  },
  {
   "cell_type": "code",
   "execution_count": 7,
   "metadata": {
    "collapsed": false
   },
   "outputs": [
    {
     "name": "stdout",
     "output_type": "stream",
     "text": [
      "(39, 1)\n"
     ]
    },
    {
     "data": {
      "text/html": [
       "<div>\n",
       "<style scoped>\n",
       "    .dataframe tbody tr th:only-of-type {\n",
       "        vertical-align: middle;\n",
       "    }\n",
       "\n",
       "    .dataframe tbody tr th {\n",
       "        vertical-align: top;\n",
       "    }\n",
       "\n",
       "    .dataframe thead th {\n",
       "        text-align: right;\n",
       "    }\n",
       "</style>\n",
       "<table border=\"1\" class=\"dataframe\">\n",
       "  <thead>\n",
       "    <tr style=\"text-align: right;\">\n",
       "      <th></th>\n",
       "      <th>PC KEGGs</th>\n",
       "    </tr>\n",
       "  </thead>\n",
       "  <tbody>\n",
       "    <tr>\n",
       "      <th>0</th>\n",
       "      <td>K00323</td>\n",
       "    </tr>\n",
       "    <tr>\n",
       "      <th>1</th>\n",
       "      <td>K00324</td>\n",
       "    </tr>\n",
       "    <tr>\n",
       "      <th>2</th>\n",
       "      <td>K00325</td>\n",
       "    </tr>\n",
       "    <tr>\n",
       "      <th>3</th>\n",
       "      <td>K00330</td>\n",
       "    </tr>\n",
       "    <tr>\n",
       "      <th>4</th>\n",
       "      <td>K00348</td>\n",
       "    </tr>\n",
       "  </tbody>\n",
       "</table>\n",
       "</div>"
      ],
      "text/plain": [
       "  PC KEGGs\n",
       "0   K00323\n",
       "1   K00324\n",
       "2   K00325\n",
       "3   K00330\n",
       "4   K00348"
      ]
     },
     "execution_count": 7,
     "metadata": {},
     "output_type": "execute_result"
    }
   ],
   "source": [
    "df_pattern = pd.read_excel(\"/Users/myazdaniUCSD/Downloads/PC KEGGs.xlsx\")\n",
    "print(df_pattern.shape)\n",
    "df_pattern.head()"
   ]
  },
  {
   "cell_type": "code",
   "execution_count": 8,
   "metadata": {
    "collapsed": true
   },
   "outputs": [],
   "source": [
    "def clean_up_keggs(keggs_list, delim = \"(\"):\n",
    "    return [kegg.split(delim)[0] for kegg in keggs_list]"
   ]
  },
  {
   "cell_type": "markdown",
   "metadata": {},
   "source": [
    "## Intersection with PCA/KS test"
   ]
  },
  {
   "cell_type": "code",
   "execution_count": 9,
   "metadata": {
    "collapsed": false
   },
   "outputs": [
    {
     "data": {
      "text/plain": [
       "set()"
      ]
     },
     "execution_count": 9,
     "metadata": {},
     "output_type": "execute_result"
    }
   ],
   "source": [
    "ks_keggs = clean_up_keggs(list(df_pca[\"name\"][df_pca[\"ks_score\"] > .8]),\n",
    "                          delim = \".\")\n",
    "\n",
    "set(df_pattern[\"PC KEGGs\"]) & set(ks_keggs)"
   ]
  },
  {
   "cell_type": "code",
   "execution_count": 10,
   "metadata": {
    "collapsed": false,
    "scrolled": true
   },
   "outputs": [
    {
     "data": {
      "text/plain": [
       "{u'K00324',\n",
       " u'K00325',\n",
       " u'K00330',\n",
       " u'K00348',\n",
       " u'K00351',\n",
       " u'K00371',\n",
       " u'K00425',\n",
       " u'K00426',\n",
       " u'K00607',\n",
       " u'K00633',\n",
       " u'K00666',\n",
       " u'K03671',\n",
       " u'K11472',\n",
       " u'K14779'}"
      ]
     },
     "execution_count": 10,
     "metadata": {},
     "output_type": "execute_result"
    }
   ],
   "source": [
    "ks_keggs = clean_up_keggs(list(df_pca[\"name\"][df_pca[\"ks_score\"] > .5]),\n",
    "                          delim = \".\")\n",
    "\n",
    "set(df_pattern[\"PC KEGGs\"]) & set(ks_keggs)"
   ]
  },
  {
   "cell_type": "code",
   "execution_count": 11,
   "metadata": {
    "collapsed": true
   },
   "outputs": [],
   "source": [
    "def intersection_with_ratios_helper(df_ratio, field, over_abund_thresh = 100, under_abund_thresh = .01):\n",
    "    extereme_indx = (df_ratio[field] > over_abund_thresh) | (df_ratio[field] < under_abund_thresh)\n",
    "\n",
    "    extreme_keggs = clean_up_keggs(list(df_extreme_mean[\"KEGG_names\"][extereme_indx]))\n",
    "    \n",
    "    print(len(extreme_keggs), \"KEGGs are extreme\")\n",
    "    return extreme_keggs"
   ]
  },
  {
   "cell_type": "markdown",
   "metadata": {},
   "source": [
    "## Intersection with CD-to-HE mean ratios"
   ]
  },
  {
   "cell_type": "code",
   "execution_count": 12,
   "metadata": {
    "collapsed": false
   },
   "outputs": [
    {
     "name": "stdout",
     "output_type": "stream",
     "text": [
      "(885, 'KEGGs are extreme')\n"
     ]
    },
    {
     "data": {
      "text/plain": [
       "{u'K00324', u'K00325', u'K00330', u'K00371', u'K14779'}"
      ]
     },
     "execution_count": 12,
     "metadata": {},
     "output_type": "execute_result"
    }
   ],
   "source": [
    "cd_he_mean_keggs = intersection_with_ratios_helper(df_extreme_mean, \"CD_HE_mean_ratio\")\n",
    "\n",
    "set(df_pattern[\"PC KEGGs\"]) & set(cd_he_mean_keggs)"
   ]
  },
  {
   "cell_type": "markdown",
   "metadata": {
    "collapsed": true
   },
   "source": [
    "## Intersection with LS-to-HE mean ratios"
   ]
  },
  {
   "cell_type": "code",
   "execution_count": 13,
   "metadata": {
    "collapsed": false
   },
   "outputs": [
    {
     "name": "stdout",
     "output_type": "stream",
     "text": [
      "(1728, 'KEGGs are extreme')\n"
     ]
    },
    {
     "data": {
      "text/plain": [
       "{u'K00324', u'K00325', u'K00360', u'K00371', u'K01085', u'K11472', u'K14271'}"
      ]
     },
     "execution_count": 13,
     "metadata": {},
     "output_type": "execute_result"
    }
   ],
   "source": [
    "\n",
    "\n",
    "ls_he_mean_keggs = intersection_with_ratios_helper(df_extreme_mean, \"LS_HE_mean_ratio\")\n",
    "\n",
    "set(df_pattern[\"PC KEGGs\"]) & set(ls_he_mean_keggs)"
   ]
  },
  {
   "cell_type": "markdown",
   "metadata": {},
   "source": [
    "## Intersection with UC-to-HE mean ratios"
   ]
  },
  {
   "cell_type": "code",
   "execution_count": 14,
   "metadata": {
    "collapsed": false
   },
   "outputs": [
    {
     "name": "stdout",
     "output_type": "stream",
     "text": [
      "(888, 'KEGGs are extreme')\n"
     ]
    },
    {
     "data": {
      "text/plain": [
       "{u'K11472', u'K11548', u'K14779'}"
      ]
     },
     "execution_count": 14,
     "metadata": {},
     "output_type": "execute_result"
    }
   ],
   "source": [
    "uc_he_mean_keggs = intersection_with_ratios_helper(df_extreme_mean, \"UC_HE_mean_ratio\")\n",
    "\n",
    "set(df_pattern[\"PC KEGGs\"]) & set(uc_he_mean_keggs)"
   ]
  },
  {
   "cell_type": "markdown",
   "metadata": {},
   "source": [
    "## Intersection with CD-to-HE median ratios"
   ]
  },
  {
   "cell_type": "code",
   "execution_count": 15,
   "metadata": {
    "collapsed": false
   },
   "outputs": [
    {
     "name": "stdout",
     "output_type": "stream",
     "text": [
      "(1361, 'KEGGs are extreme')\n"
     ]
    },
    {
     "data": {
      "text/plain": [
       "{u'K00324', u'K00325', u'K00371', u'K10094', u'K14779'}"
      ]
     },
     "execution_count": 15,
     "metadata": {},
     "output_type": "execute_result"
    }
   ],
   "source": [
    "cd_he_median_keggs = intersection_with_ratios_helper(df_extreme_median, \"CD_HE_median_ratio\")\n",
    "\n",
    "set(df_pattern[\"PC KEGGs\"]) & set(cd_he_median_keggs)"
   ]
  },
  {
   "cell_type": "markdown",
   "metadata": {},
   "source": [
    "## Intersection with LS-to-HE median ratios"
   ]
  },
  {
   "cell_type": "code",
   "execution_count": 16,
   "metadata": {
    "collapsed": false
   },
   "outputs": [
    {
     "name": "stdout",
     "output_type": "stream",
     "text": [
      "(2204, 'KEGGs are extreme')\n"
     ]
    },
    {
     "data": {
      "text/plain": [
       "{u'K00324',\n",
       " u'K00325',\n",
       " u'K00360',\n",
       " u'K00371',\n",
       " u'K00643',\n",
       " u'K01085',\n",
       " u'K11472',\n",
       " u'K12242',\n",
       " u'K14271',\n",
       " u'K14766'}"
      ]
     },
     "execution_count": 16,
     "metadata": {},
     "output_type": "execute_result"
    }
   ],
   "source": [
    "ls_he_median_keggs = intersection_with_ratios_helper(df_extreme_median, \"LS_HE_median_ratio\")\n",
    "\n",
    "set(df_pattern[\"PC KEGGs\"]) & set(ls_he_median_keggs)"
   ]
  },
  {
   "cell_type": "markdown",
   "metadata": {},
   "source": [
    "## Intersection with UC-to-HE median ratios"
   ]
  },
  {
   "cell_type": "code",
   "execution_count": 17,
   "metadata": {
    "collapsed": false
   },
   "outputs": [
    {
     "name": "stdout",
     "output_type": "stream",
     "text": [
      "(1558, 'KEGGs are extreme')\n"
     ]
    },
    {
     "data": {
      "text/plain": [
       "{u'K00324',\n",
       " u'K00371',\n",
       " u'K01085',\n",
       " u'K11472',\n",
       " u'K11548',\n",
       " u'K12242',\n",
       " u'K14779',\n",
       " u'K14780'}"
      ]
     },
     "execution_count": 17,
     "metadata": {},
     "output_type": "execute_result"
    }
   ],
   "source": [
    "uc_he_median_keggs = intersection_with_ratios_helper(df_extreme_median, \"UC_HE_median_ratio\")\n",
    "\n",
    "set(df_pattern[\"PC KEGGs\"]) & set(uc_he_median_keggs)"
   ]
  },
  {
   "cell_type": "markdown",
   "metadata": {},
   "source": [
    "## Intersection with Ayasdi group 4"
   ]
  },
  {
   "cell_type": "code",
   "execution_count": 18,
   "metadata": {
    "collapsed": false
   },
   "outputs": [
    {
     "data": {
      "text/plain": [
       "{u'K00325',\n",
       " u'K00351',\n",
       " u'K00371',\n",
       " u'K00426',\n",
       " u'K00430',\n",
       " u'K00604',\n",
       " u'K00609',\n",
       " u'K00610',\n",
       " u'K00633'}"
      ]
     },
     "execution_count": 18,
     "metadata": {},
     "output_type": "execute_result"
    }
   ],
   "source": [
    "ayasdi_keggs_group_4 = clean_up_keggs(df_ayasdi_group_4[\"KEGG_names\"])\n",
    "set(df_pattern[\"PC KEGGs\"]) & set(ayasdi_keggs_group_4)"
   ]
  },
  {
   "cell_type": "markdown",
   "metadata": {},
   "source": [
    "## Intersection with Ayasdi group 6"
   ]
  },
  {
   "cell_type": "code",
   "execution_count": 19,
   "metadata": {
    "collapsed": false
   },
   "outputs": [
    {
     "data": {
      "text/plain": [
       "set()"
      ]
     },
     "execution_count": 19,
     "metadata": {},
     "output_type": "execute_result"
    }
   ],
   "source": [
    "ayasdi_keggs_group_6 = clean_up_keggs(df_ayasdi_group_6[\"KEGG_names\"])\n",
    "set(df_pattern[\"PC KEGGs\"]) & set(ayasdi_keggs_group_6)"
   ]
  },
  {
   "cell_type": "code",
   "execution_count": null,
   "metadata": {
    "collapsed": true
   },
   "outputs": [],
   "source": []
  }
 ],
 "metadata": {
  "kernelspec": {
   "display_name": "Python 2",
   "language": "python",
   "name": "python2"
  },
  "language_info": {
   "codemirror_mode": {
    "name": "ipython",
    "version": 2
   },
   "file_extension": ".py",
   "mimetype": "text/x-python",
   "name": "python",
   "nbconvert_exporter": "python",
   "pygments_lexer": "ipython2",
   "version": "2.7.12"
  }
 },
 "nbformat": 4,
 "nbformat_minor": 0
}
