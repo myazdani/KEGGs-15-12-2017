{
 "cells": [
  {
   "cell_type": "code",
   "execution_count": 1,
   "metadata": {
    "collapsed": false,
    "slideshow": {
     "slide_type": "slide"
    }
   },
   "outputs": [
    {
     "name": "stderr",
     "output_type": "stream",
     "text": [
      "Vendor:  Continuum Analytics, Inc.\n",
      "Package: mkl\n",
      "Message: trial mode expires in 30 days\n"
     ]
    }
   ],
   "source": [
    "import pandas as pd\n",
    "import numpy as np\n",
    "\n",
    "import matplotlib.pyplot as plt\n",
    "%matplotlib inline"
   ]
  },
  {
   "cell_type": "markdown",
   "metadata": {
    "slideshow": {
     "slide_type": "slide"
    }
   },
   "source": [
    "# KEGG Ratios\n",
    "\n",
    "- Compute the median KEGG for each HE, LS, CD, and UC cohort\n",
    "- Compute the ratio of the median KEGG for LS, CD, and UC against HE\n",
    "- Viusalize ratios\n",
    "- Visualize only \"extreme\" ratios"
   ]
  },
  {
   "cell_type": "code",
   "execution_count": 2,
   "metadata": {
    "collapsed": false,
    "slideshow": {
     "slide_type": "skip"
    }
   },
   "outputs": [],
   "source": [
    "df = pd.read_csv(\"../data/keggs-subjects-rf-scores.csv\")"
   ]
  },
  {
   "cell_type": "code",
   "execution_count": 3,
   "metadata": {
    "collapsed": false,
    "slideshow": {
     "slide_type": "skip"
    }
   },
   "outputs": [
    {
     "data": {
      "text/plain": [
       "Index([u'kegg', u'over.abundant.health.conf', u'LS001', u'LS002', u'LS003',\n",
       "       u'LS004', u'LS005', u'LS006', u'LS007', u'CD.SRS301865',\n",
       "       u'CD.SRS301866', u'CD.SRS301867', u'CD.SRS301868', u'CD.SRS301869',\n",
       "       u'CD.SRS301870', u'CD.SRS301871', u'CD.SRS301872', u'CD.SRS301873',\n",
       "       u'CD.SRS301874', u'CD.SRS301875', u'CD.SRS301876', u'CD.SRS301877',\n",
       "       u'CD.SRS301878', u'CD.SRS301879', u'UC.SRS071964', u'UC.SRS071970',\n",
       "       u'UC.SRS071978', u'UC.SRS071981', u'UC.SRS071982', u'UC.SRS071988',\n",
       "       u'HE.SRS011061', u'HE.SRS011084', u'HE.SRS011134', u'HE.SRS011239',\n",
       "       u'HE.SRS011271', u'HE.SRS011302', u'HE.SRS011405', u'HE.SRS011452',\n",
       "       u'HE.SRS011529', u'HE.SRS011586', u'HE.SRS012273', u'HE.SRS012902',\n",
       "       u'HE.SRS013158', u'HE.SRS013215', u'HE.SRS013687', u'HE.SRS013951',\n",
       "       u'HE.SRS014235', u'HE.SRS014923', u'HE.SRS014979', u'HE.SRS015065',\n",
       "       u'HE.SRS015217', u'HE.SRS015578', u'HE.SRS015663', u'HE.SRS016018',\n",
       "       u'HE.SRS016095', u'HE.SRS016335', u'HE.SRS016495', u'HE.SRS017103',\n",
       "       u'HE.SRS017433', u'HE.SRS018427', u'HE.SRS018656', u'HE.SRS020328',\n",
       "       u'HE.SRS020869', u'HE.SRS022713', u'HE.SRS016585.suspect'],\n",
       "      dtype='object')"
      ]
     },
     "execution_count": 3,
     "metadata": {},
     "output_type": "execute_result"
    }
   ],
   "source": [
    "df.columns"
   ]
  },
  {
   "cell_type": "code",
   "execution_count": 4,
   "metadata": {
    "collapsed": false
   },
   "outputs": [],
   "source": [
    "class RatioComputer():\n",
    "    ''' Compute average ratios between three different cohorts (UC, CD, LS) against HE. Compute the \n",
    "    condition number \n",
    "    \n",
    "    \n",
    "    Args:\n",
    "    -----\n",
    "    df_subjects : pandas data frame\n",
    "        Data frame where we expect rows to be KEGGs with columns corresponding to the \n",
    "        cohorts HE, LS, CD, and UC. We expect the strings \"HE\", \"LS\", \"CD\", and \"UC\" \n",
    "        to be in the  header names.\n",
    "    \n",
    "    random_cohort : binary (default False)\n",
    "        Whether the cohorts should be randomized. Useful for hypothesis testing. If random \n",
    "        cohorts are used, then 35, 6, 7, and 15 columns are randomly sampled without \n",
    "        replacement correspondings to the cohorts, HE, LS, UC, and CD respectively. These\n",
    "        numbers reflect the sample sizes for each cohort. \n",
    "        \n",
    "    \n",
    "    Attributes:\n",
    "    -----------\n",
    "    HE_df, LS_df, UC_df, CD_df : pandas data frames\n",
    "        Pandas datafames corresponding to subject samples used for HE, LS, UC, and CD cohorts.\n",
    "        \n",
    "    df_subjects : pandas data frame\n",
    "        Subjects data frame passed that remains untouched even random_cohort = True\n",
    "    \n",
    "    random_cohort : binary (default True)\n",
    "        If random samples where used to create HE_df, LS_df, UC_df, and CD_df. \n",
    "        \n",
    "        \n",
    "    Example:\n",
    "    --------\n",
    "    >>> # read data\n",
    "    >>> df = pd.read_csv(\"../data/keggs-subjects-rf-scores.csv\")\n",
    "    >>> mean_ratios = RatioComputer(df_subjects = df.iloc[:,2:])\n",
    "    >>> mean_ratios.mean_ratios_cond_number(laplace_scale_numerator=False)\n",
    "\n",
    "    \n",
    "    '''\n",
    "    def __init__(self, df_subjects, random_cohort = False):\n",
    "        self.df_subjects = df_subjects\n",
    "        self.random_cohort = random_cohort\n",
    "        \n",
    "        if self.random_cohort:\n",
    "            df_random = df_subjects.iloc[:,np.random.permutation(np.arange(df_subjects.shape[1]))]\n",
    "            self.HE_df = df_random.iloc[:,:35]\n",
    "            self.LS_df = df_random.iloc[:,35:(35+7)]\n",
    "            self.UC_df = df_random.iloc[:,(35+7):(35+7+6)]\n",
    "            self.CD_df = df_random.iloc[:,(35+7+6):]\n",
    "            \n",
    "        else:\n",
    "            self.HE_df = df_subjects.filter(regex=(\"HE.*\"))\n",
    "            self.LS_df = df_subjects.filter(regex=(\"LS.*\"))\n",
    "            self.UC_df = df_subjects.filter(regex=(\"UC.*\"))\n",
    "            self.CD_df = df_subjects.filter(regex=(\"CD.*\"))\n",
    "            \n",
    "            \n",
    "    def return_eig_vals(self):\n",
    "        self.ratio_matrix_finite = self.ratio_matrix[:,np.all(np.isfinite(self.ratio_matrix), \n",
    "                                                              axis=0)]      \n",
    "        self.ratio_matrix_cov = np.cov(self.ratio_matrix_finite)\n",
    "        w, v = np.linalg.eig(self.ratio_matrix_cov)  \n",
    "        return w    \n",
    "    \n",
    "    \n",
    "    def mean_ratios_cond_number(self, laplace_scale = 1e-9, normalize = False, laplace_scale_numerator = True):\n",
    "        ''' compute mean KEGG for each KEGG for each cohort, then take the log-ratio of the average KEGG for cohorts \n",
    "        LS, CD, and UC against HE to yeild the tuple (LS/HE, UC/HE, CD/HE). Can think of this tuple as a matrix with\n",
    "        3 columns corresponding to the 3 ratios and ~10K rows corresponding to each KEGG. \n",
    "        We compute the condition number for 3x3 covariance matrix formed by this tuple. \n",
    "        \n",
    "        \n",
    "        Args:\n",
    "        -----\n",
    "        laplace_scale : float (default 1e-9)\n",
    "            What value to add to ALL KEGGs to avoid division by 0 and log(0) issues.\n",
    "        \n",
    "        normalize : binary (default False)\n",
    "            Whether the relative abundances should be normalized to each that all KEGGs\n",
    "            add to 1.0 after averaging has been computed. \n",
    "        \n",
    "        '''\n",
    "        \n",
    "        self.HE_df = self.HE_df + laplace_scale\n",
    "        self.LS_df = self.LS_df + laplace_scale\n",
    "        self.UC_df = self.UC_df + laplace_scale\n",
    "        self.CD_df = self.CD_df + laplace_scale\n",
    "        \n",
    "        if normalize_after_laplace_scaling:\n",
    "            \n",
    "            \n",
    "        \n",
    "        HE_mean = self.HE_df.apply(lambda x: np.nanmean(np.log10(x+laplace_scale))**10, \n",
    "                                   axis = 1)\n",
    "        LS_mean = self.LS_df.apply(lambda x: np.nanmean(np.log10(x+laplace_scale))**10, \n",
    "                                   axis = 1)\n",
    "        UC_mean = self.UC_df.apply(lambda x: np.nanmean(np.log10(x+laplace_scale))**10, \n",
    "                                   axis = 1)\n",
    "        CD_mean = self.CD_df.apply(lambda x: np.nanmean(np.log10(x+laplace_scale))**10, \n",
    "                                   axis = 1)\n",
    "        \n",
    "        if normalize:\n",
    "            HE_mean = HE_mean/np.nansum(HE_mean)\n",
    "            LS_mean = LS_mean/np.nansum(LS_mean)\n",
    "            CD_mean = CD_mean/np.nansum(CD_mean)\n",
    "            UC_mean = UC_mean/np.nansum(UC_mean)\n",
    "            \n",
    "        if laplace_scale_numerator:    \n",
    "            self.LS_HE_mean = np.log10((LS_mean+laplace_scale)/(HE_mean+laplace_scale))\n",
    "            self.UC_HE_mean = np.log10((UC_mean+laplace_scale)/(HE_mean+laplace_scale))\n",
    "            self.CD_HE_mean = np.log10((CD_mean+laplace_scale)/(HE_mean+laplace_scale))\n",
    "        else:\n",
    "            self.LS_HE_mean = np.log10((LS_mean)/(HE_mean+laplace_scale))\n",
    "            self.UC_HE_mean = np.log10((UC_mean)/(HE_mean+laplace_scale))\n",
    "            self.CD_HE_mean = np.log10((CD_mean)/(HE_mean+laplace_scale))\n",
    "            \n",
    "        self.ratio_matrix = np.array([self.LS_HE_mean, self.UC_HE_mean, self.CD_HE_mean])\n",
    "        \n",
    "        w = self.return_eig_vals()\n",
    "        self.cond_number = np.max(w)/np.min(w) \n",
    "        return self.cond_number   \n",
    "\n",
    "    def median_ratios_cond_number(self, laplace_scale = 1e-9, normalize = False, laplace_scale_numerator = True):\n",
    "        HE_median = self.HE_df.apply(lambda x: np.median(x), axis = 1)\n",
    "        LS_median = self.LS_df.apply(lambda x: np.median(x), axis = 1)\n",
    "        UC_median = self.UC_df.apply(lambda x: np.median(x), axis = 1)\n",
    "        CD_median = self.CD_df.apply(lambda x: np.median(x), axis = 1)\n",
    "        \n",
    "        if normalize:\n",
    "            HE_median = HE_median/np.sum(HE_median)\n",
    "            LS_median = LS_median/np.sum(LS_median)\n",
    "            CD_median = CD_median/np.sum(CD_median)\n",
    "            UC_median = UC_median/np.sum(UC_median)\n",
    "        \n",
    "        if laplace_scale_numerator:\n",
    "            self.LS_HE_median = np.log10((LS_median+laplace_scale)/(HE_median+laplace_scale))\n",
    "            self.UC_HE_median = np.log10((UC_median+laplace_scale)/(HE_median+laplace_scale))\n",
    "            self.CD_HE_median = np.log10((CD_median+laplace_scale)/(HE_median+laplace_scale))\n",
    "        else:\n",
    "            self.LS_HE_median = np.log10((LS_median)/(HE_median+laplace_scale))\n",
    "            self.UC_HE_median = np.log10((UC_median)/(HE_median+laplace_scale))\n",
    "            self.CD_HE_median = np.log10((CD_median)/(HE_median+laplace_scale))            \n",
    "            \n",
    "        self.ratio_matrix = np.array([self.LS_HE_median, self.UC_HE_median, self.CD_HE_median])  \n",
    "        \n",
    "        w = self.return_eig_vals()\n",
    "        self.cond_number = np.max(w)/np.min(w)  \n",
    "        return self.cond_number\n",
    "        \n"
   ]
  },
  {
   "cell_type": "code",
   "execution_count": 5,
   "metadata": {
    "collapsed": false
   },
   "outputs": [
    {
     "data": {
      "text/plain": [
       "3.7347151850428517"
      ]
     },
     "execution_count": 5,
     "metadata": {},
     "output_type": "execute_result"
    }
   ],
   "source": [
    "mean_ratios = RatioComputer(df_subjects = df.iloc[:,2:])\n",
    "mean_ratios.mean_ratios_cond_number(laplace_scale_numerator=False)"
   ]
  },
  {
   "cell_type": "code",
   "execution_count": 20,
   "metadata": {
    "collapsed": true
   },
   "outputs": [],
   "source": [
    "meh = mean_ratios.HE_df"
   ]
  },
  {
   "cell_type": "code",
   "execution_count": 21,
   "metadata": {
    "collapsed": true
   },
   "outputs": [],
   "source": [
    "meh = meh + 1e-9"
   ]
  },
  {
   "cell_type": "code",
   "execution_count": 22,
   "metadata": {
    "collapsed": false
   },
   "outputs": [],
   "source": [
    "meh_normalized = meh/meh.sum()"
   ]
  },
  {
   "cell_type": "code",
   "execution_count": 27,
   "metadata": {
    "collapsed": false
   },
   "outputs": [
    {
     "data": {
      "text/plain": [
       "1.0"
      ]
     },
     "execution_count": 27,
     "metadata": {},
     "output_type": "execute_result"
    }
   ],
   "source": [
    "np.sum(meh_normalized.iloc[:,0]/np.sum(meh_normalized.iloc[:,0]))"
   ]
  },
  {
   "cell_type": "code",
   "execution_count": 29,
   "metadata": {
    "collapsed": false
   },
   "outputs": [],
   "source": [
    "meh_normalized = meh.apply(lambda x: x/np.sum(x), axis = 0)"
   ]
  },
  {
   "cell_type": "code",
   "execution_count": 30,
   "metadata": {
    "collapsed": false
   },
   "outputs": [
    {
     "data": {
      "text/plain": [
       "1.0"
      ]
     },
     "execution_count": 30,
     "metadata": {},
     "output_type": "execute_result"
    }
   ],
   "source": [
    "np.sum(meh_normalized.iloc[:,0])"
   ]
  },
  {
   "cell_type": "code",
   "execution_count": 7,
   "metadata": {
    "collapsed": false
   },
   "outputs": [
    {
     "name": "stdout",
     "output_type": "stream",
     "text": [
      "CPU times: user 17min 2s, sys: 20.7 s, total: 17min 22s\n",
      "Wall time: 16min 26s\n"
     ]
    },
    {
     "data": {
      "image/png": "[encoded data removed]",
      "text/plain": [
       "<matplotlib.figure.Figure at 0x119160710>"
      ]
     },
     "metadata": {},
     "output_type": "display_data"
    }
   ],
   "source": [
    "%%time\n",
    "cond_numbers = []\n",
    "for _ in range(100):\n",
    "    mean_random_ratios = RatioComputer(df_subjects = df.iloc[:,2:], random_cohort=True)\n",
    "    cond_numbers.append(mean_random_ratios.mean_ratios_cond_number(laplace_scale_numerator=False))\n",
    "    \n",
    "plt.hist(cond_numbers, bins=20);"
   ]
  },
  {
   "cell_type": "code",
   "execution_count": 37,
   "metadata": {
    "collapsed": false
   },
   "outputs": [
    {
     "data": {
      "text/plain": [
       "<matplotlib.legend.Legend at 0x118c53c50>"
      ]
     },
     "execution_count": 37,
     "metadata": {},
     "output_type": "execute_result"
    },
    {
     "data": {
      "image/png": "[encoded data removed]",
      "text/plain": [
       "<matplotlib.figure.Figure at 0x118c97a10>"
      ]
     },
     "metadata": {},
     "output_type": "display_data"
    }
   ],
   "source": [
    "width \n",
    "height = \n",
    "plt.hist(cond_numbers, bins=20, alpha = .5, label = \"randomized condition numbers\");\n",
    "plt.axvline(3.7347151850428517,  color='r', linestyle='dashed', linewidth=2, label = \"meh\")\n",
    "plt.legend()"
   ]
  },
  {
   "cell_type": "code",
   "execution_count": 11,
   "metadata": {
    "collapsed": false
   },
   "outputs": [
    {
     "name": "stderr",
     "output_type": "stream",
     "text": [
      "/Users/myazdaniUCSD/anaconda/lib/python2.7/site-packages/IPython/kernel/__main__.py:76: RuntimeWarning: divide by zero encountered in log10\n",
      "/Users/myazdaniUCSD/anaconda/lib/python2.7/site-packages/IPython/kernel/__main__.py:77: RuntimeWarning: divide by zero encountered in log10\n",
      "/Users/myazdaniUCSD/anaconda/lib/python2.7/site-packages/IPython/kernel/__main__.py:78: RuntimeWarning: divide by zero encountered in log10\n"
     ]
    },
    {
     "data": {
      "text/plain": [
       "38.778113886694292"
      ]
     },
     "execution_count": 11,
     "metadata": {},
     "output_type": "execute_result"
    }
   ],
   "source": [
    "median_ratios = RatioComputer(df_subjects = df.iloc[:,2:], random_cohort=False)\n",
    "median_ratios.median_ratios_cond_number(laplace_scale_numerator=False)"
   ]
  },
  {
   "cell_type": "code",
   "execution_count": 17,
   "metadata": {
    "collapsed": false
   },
   "outputs": [
    {
     "name": "stderr",
     "output_type": "stream",
     "text": [
      "/Users/myazdaniUCSD/anaconda/lib/python2.7/site-packages/IPython/kernel/__main__.py:76: RuntimeWarning: divide by zero encountered in log10\n",
      "/Users/myazdaniUCSD/anaconda/lib/python2.7/site-packages/IPython/kernel/__main__.py:77: RuntimeWarning: divide by zero encountered in log10\n",
      "/Users/myazdaniUCSD/anaconda/lib/python2.7/site-packages/IPython/kernel/__main__.py:78: RuntimeWarning: divide by zero encountered in log10\n"
     ]
    }
   ],
   "source": [
    "cond_numbers = []\n",
    "stats_models = []\n",
    "for _ in range(100):\n",
    "    median_random_ratios = RatioComputer(df_subjects = df.iloc[:,2:], random_cohort=True)\n",
    "    cond_numbers.append(median_random_ratios.median_ratios_cond_number(laplace_scale_numerator=False))\n",
    "    stats_models.append(median_random_ratios)"
   ]
  },
  {
   "cell_type": "code",
   "execution_count": 19,
   "metadata": {
    "collapsed": false
   },
   "outputs": [
    {
     "data": {
      "image/png": "[encoded data removed]",
      "text/plain": [
       "<matplotlib.figure.Figure at 0x15943dcd0>"
      ]
     },
     "metadata": {},
     "output_type": "display_data"
    }
   ],
   "source": [
    "plt.hist(cond_numbers, bins=20);"
   ]
  },
  {
   "cell_type": "code",
   "execution_count": 63,
   "metadata": {
    "collapsed": false
   },
   "outputs": [
    {
     "data": {
      "text/plain": [
       "4"
      ]
     },
     "execution_count": 63,
     "metadata": {},
     "output_type": "execute_result"
    }
   ],
   "source": [
    "len(np.where(np.array(cond_numbers) > 38)[0])"
   ]
  },
  {
   "cell_type": "code",
   "execution_count": null,
   "metadata": {
    "collapsed": true
   },
   "outputs": [],
   "source": []
  },
  {
   "cell_type": "code",
   "execution_count": null,
   "metadata": {
    "collapsed": true
   },
   "outputs": [],
   "source": []
  },
  {
   "cell_type": "code",
   "execution_count": 65,
   "metadata": {
    "collapsed": false
   },
   "outputs": [
    {
     "data": {
      "text/plain": [
       "3.7347151850428562"
      ]
     },
     "execution_count": 65,
     "metadata": {},
     "output_type": "execute_result"
    }
   ],
   "source": [
    "mean_ratios = RatioComputer(df_subjects = df.iloc[:,2:])\n",
    "mean_ratios.mean_ratios_cond_number(laplace_scale_numerator=True)"
   ]
  },
  {
   "cell_type": "code",
   "execution_count": null,
   "metadata": {
    "collapsed": true
   },
   "outputs": [],
   "source": []
  },
  {
   "cell_type": "code",
   "execution_count": null,
   "metadata": {
    "collapsed": true
   },
   "outputs": [],
   "source": []
  },
  {
   "cell_type": "code",
   "execution_count": 68,
   "metadata": {
    "collapsed": false
   },
   "outputs": [
    {
     "name": "stderr",
     "output_type": "stream",
     "text": [
      "/Users/myazdaniUCSD/anaconda/lib/python2.7/site-packages/IPython/kernel/__main__.py:29: RuntimeWarning: divide by zero encountered in log10\n",
      "/Users/myazdaniUCSD/anaconda/lib/python2.7/site-packages/IPython/kernel/__main__.py:31: RuntimeWarning: divide by zero encountered in log10\n",
      "/Users/myazdaniUCSD/anaconda/lib/python2.7/site-packages/IPython/kernel/__main__.py:33: RuntimeWarning: divide by zero encountered in log10\n",
      "/Users/myazdaniUCSD/anaconda/lib/python2.7/site-packages/IPython/kernel/__main__.py:35: RuntimeWarning: divide by zero encountered in log10\n",
      "/Users/myazdaniUCSD/anaconda/lib/python2.7/site-packages/IPython/kernel/__main__.py:45: RuntimeWarning: divide by zero encountered in log10\n",
      "/Users/myazdaniUCSD/anaconda/lib/python2.7/site-packages/IPython/kernel/__main__.py:46: RuntimeWarning: divide by zero encountered in log10\n",
      "/Users/myazdaniUCSD/anaconda/lib/python2.7/site-packages/IPython/kernel/__main__.py:47: RuntimeWarning: divide by zero encountered in log10\n"
     ]
    },
    {
     "data": {
      "text/plain": [
       "11.652880940699854"
      ]
     },
     "execution_count": 68,
     "metadata": {},
     "output_type": "execute_result"
    }
   ],
   "source": [
    "mean_ratios = RatioComputer(df_subjects = df.iloc[:,2:])\n",
    "mean_ratios.mean_ratios_cond_number(laplace_scale_numerator=True, laplace_scale=0)"
   ]
  },
  {
   "cell_type": "code",
   "execution_count": null,
   "metadata": {
    "collapsed": false
   },
   "outputs": [
    {
     "name": "stderr",
     "output_type": "stream",
     "text": [
      "/Users/myazdaniUCSD/anaconda/lib/python2.7/site-packages/IPython/kernel/__main__.py:29: RuntimeWarning: divide by zero encountered in log10\n",
      "/Users/myazdaniUCSD/anaconda/lib/python2.7/site-packages/IPython/kernel/__main__.py:31: RuntimeWarning: divide by zero encountered in log10\n",
      "/Users/myazdaniUCSD/anaconda/lib/python2.7/site-packages/IPython/kernel/__main__.py:33: RuntimeWarning: divide by zero encountered in log10\n",
      "/Users/myazdaniUCSD/anaconda/lib/python2.7/site-packages/IPython/kernel/__main__.py:35: RuntimeWarning: divide by zero encountered in log10\n"
     ]
    }
   ],
   "source": [
    "cond_numbers = []\n",
    "stats_models = []\n",
    "for _ in range(100):\n",
    "    mean_random_ratios = RatioComputer(df_subjects = df.iloc[:,2:], random_cohort=True)\n",
    "    cond_numbers.append(mean_random_ratios.mean_ratios_cond_number(laplace_scale_numerator=True, laplace_scale=0))\n",
    "    stats_models.append(mean_random_ratios)"
   ]
  },
  {
   "cell_type": "code",
   "execution_count": null,
   "metadata": {
    "collapsed": true
   },
   "outputs": [],
   "source": []
  },
  {
   "cell_type": "code",
   "execution_count": null,
   "metadata": {
    "collapsed": true
   },
   "outputs": [],
   "source": []
  },
  {
   "cell_type": "code",
   "execution_count": 18,
   "metadata": {
    "collapsed": false
   },
   "outputs": [
    {
     "data": {
      "text/plain": [
       "3.7347151850428562"
      ]
     },
     "execution_count": 18,
     "metadata": {},
     "output_type": "execute_result"
    }
   ],
   "source": [
    "mean_ratios = RatioComputer(df_subjects = df.iloc[:,2:])\n",
    "mean_ratios.mean_ratios()\n",
    "mean_ratios.condition_number(laplace_scale=0)"
   ]
  },
  {
   "cell_type": "code",
   "execution_count": 19,
   "metadata": {
    "collapsed": false
   },
   "outputs": [
    {
     "data": {
      "text/plain": [
       "3.731855659041428"
      ]
     },
     "execution_count": 19,
     "metadata": {},
     "output_type": "execute_result"
    }
   ],
   "source": [
    "mean_ratios = RatioComputer(df_subjects = df.iloc[:,2:])\n",
    "mean_ratios.mean_ratios(normalize=True)\n",
    "mean_ratios.condition_number(laplace_scale=0)"
   ]
  },
  {
   "cell_type": "code",
   "execution_count": 20,
   "metadata": {
    "collapsed": false
   },
   "outputs": [
    {
     "name": "stderr",
     "output_type": "stream",
     "text": [
      "/Users/myazdaniUCSD/anaconda/lib/python2.7/site-packages/IPython/kernel/__main__.py:21: RuntimeWarning: divide by zero encountered in log10\n",
      "/Users/myazdaniUCSD/anaconda/lib/python2.7/site-packages/IPython/kernel/__main__.py:23: RuntimeWarning: divide by zero encountered in log10\n",
      "/Users/myazdaniUCSD/anaconda/lib/python2.7/site-packages/IPython/kernel/__main__.py:25: RuntimeWarning: divide by zero encountered in log10\n",
      "/Users/myazdaniUCSD/anaconda/lib/python2.7/site-packages/IPython/kernel/__main__.py:27: RuntimeWarning: divide by zero encountered in log10\n",
      "/Users/myazdaniUCSD/anaconda/lib/python2.7/site-packages/IPython/kernel/__main__.py:36: RuntimeWarning: divide by zero encountered in log10\n",
      "/Users/myazdaniUCSD/anaconda/lib/python2.7/site-packages/IPython/kernel/__main__.py:37: RuntimeWarning: divide by zero encountered in log10\n",
      "/Users/myazdaniUCSD/anaconda/lib/python2.7/site-packages/IPython/kernel/__main__.py:38: RuntimeWarning: divide by zero encountered in log10\n"
     ]
    },
    {
     "data": {
      "text/plain": [
       "11.652880940699854"
      ]
     },
     "execution_count": 20,
     "metadata": {},
     "output_type": "execute_result"
    }
   ],
   "source": [
    "mean_ratios = RatioComputer(df_subjects = df.iloc[:,2:])\n",
    "mean_ratios.mean_ratios(laplace_scale=0)\n",
    "mean_ratios.condition_number(laplace_scale=0)"
   ]
  },
  {
   "cell_type": "code",
   "execution_count": 23,
   "metadata": {
    "collapsed": false
   },
   "outputs": [
    {
     "data": {
      "text/plain": [
       "3.3827740316100026"
      ]
     },
     "execution_count": 23,
     "metadata": {},
     "output_type": "execute_result"
    }
   ],
   "source": [
    "median_ratios = RatioComputer(df_subjects = df.iloc[:,2:])\n",
    "median_ratios.median_ratios()\n",
    "median_ratios.condition_number()"
   ]
  },
  {
   "cell_type": "code",
   "execution_count": 24,
   "metadata": {
    "collapsed": false
   },
   "outputs": [
    {
     "data": {
      "text/plain": [
       "3.3827740316100026"
      ]
     },
     "execution_count": 24,
     "metadata": {},
     "output_type": "execute_result"
    }
   ],
   "source": [
    "median_ratios = RatioComputer(df_subjects = df.iloc[:,2:])\n",
    "median_ratios.median_ratios()\n",
    "median_ratios.condition_number(laplace_scale=0)"
   ]
  },
  {
   "cell_type": "code",
   "execution_count": 25,
   "metadata": {
    "collapsed": false
   },
   "outputs": [
    {
     "name": "stderr",
     "output_type": "stream",
     "text": [
      "/Users/myazdaniUCSD/anaconda/lib/python2.7/site-packages/IPython/kernel/__main__.py:53: RuntimeWarning: divide by zero encountered in log10\n",
      "/Users/myazdaniUCSD/anaconda/lib/python2.7/site-packages/IPython/kernel/__main__.py:54: RuntimeWarning: divide by zero encountered in log10\n",
      "/Users/myazdaniUCSD/anaconda/lib/python2.7/site-packages/IPython/kernel/__main__.py:55: RuntimeWarning: divide by zero encountered in log10\n"
     ]
    },
    {
     "data": {
      "text/plain": [
       "10.377479279340005"
      ]
     },
     "execution_count": 25,
     "metadata": {},
     "output_type": "execute_result"
    }
   ],
   "source": [
    "median_ratios = RatioComputer(df_subjects = df.iloc[:,2:])\n",
    "median_ratios.median_ratios(laplace_scale=0)\n",
    "median_ratios.condition_number(laplace_scale=0)"
   ]
  },
  {
   "cell_type": "code",
   "execution_count": 26,
   "metadata": {
    "collapsed": false
   },
   "outputs": [
    {
     "data": {
      "text/plain": [
       "3.3970395852869375"
      ]
     },
     "execution_count": 26,
     "metadata": {},
     "output_type": "execute_result"
    }
   ],
   "source": [
    "median_ratios = RatioComputer(df_subjects = df.iloc[:,2:])\n",
    "median_ratios.median_ratios(normalize=True)\n",
    "median_ratios.condition_number()"
   ]
  },
  {
   "cell_type": "code",
   "execution_count": 28,
   "metadata": {
    "collapsed": false
   },
   "outputs": [
    {
     "name": "stderr",
     "output_type": "stream",
     "text": [
      "/Users/myazdaniUCSD/anaconda/lib/python2.7/site-packages/IPython/kernel/__main__.py:53: RuntimeWarning: divide by zero encountered in log10\n",
      "/Users/myazdaniUCSD/anaconda/lib/python2.7/site-packages/IPython/kernel/__main__.py:54: RuntimeWarning: divide by zero encountered in log10\n",
      "/Users/myazdaniUCSD/anaconda/lib/python2.7/site-packages/IPython/kernel/__main__.py:55: RuntimeWarning: divide by zero encountered in log10\n"
     ]
    },
    {
     "data": {
      "text/plain": [
       "10.377479279340005"
      ]
     },
     "execution_count": 28,
     "metadata": {},
     "output_type": "execute_result"
    }
   ],
   "source": [
    "median_ratios = RatioComputer(df_subjects = df.iloc[:,2:])\n",
    "median_ratios.median_ratios(normalize=True, laplace_scale=0)\n",
    "median_ratios.condition_number(laplace_scale=0)"
   ]
  },
  {
   "cell_type": "code",
   "execution_count": 39,
   "metadata": {
    "collapsed": false
   },
   "outputs": [
    {
     "name": "stderr",
     "output_type": "stream",
     "text": [
      "/Users/myazdaniUCSD/anaconda/lib/python2.7/site-packages/IPython/kernel/__main__.py:21: RuntimeWarning: divide by zero encountered in log10\n",
      "/Users/myazdaniUCSD/anaconda/lib/python2.7/site-packages/IPython/kernel/__main__.py:23: RuntimeWarning: divide by zero encountered in log10\n",
      "/Users/myazdaniUCSD/anaconda/lib/python2.7/site-packages/IPython/kernel/__main__.py:25: RuntimeWarning: divide by zero encountered in log10\n",
      "/Users/myazdaniUCSD/anaconda/lib/python2.7/site-packages/IPython/kernel/__main__.py:27: RuntimeWarning: divide by zero encountered in log10\n",
      "/Users/myazdaniUCSD/anaconda/lib/python2.7/site-packages/IPython/kernel/__main__.py:36: RuntimeWarning: divide by zero encountered in log10\n",
      "/Users/myazdaniUCSD/anaconda/lib/python2.7/site-packages/IPython/kernel/__main__.py:37: RuntimeWarning: divide by zero encountered in log10\n",
      "/Users/myazdaniUCSD/anaconda/lib/python2.7/site-packages/IPython/kernel/__main__.py:38: RuntimeWarning: divide by zero encountered in log10\n"
     ]
    }
   ],
   "source": [
    "cond_numbers = []\n",
    "for _ in range(100):\n",
    "    mean_ratios = RatioComputer(df_subjects = df.iloc[:,2:], random_cohort=True)\n",
    "    mean_ratios.mean_ratios(laplace_scale=0)\n",
    "    cond_numbers.append(mean_ratios.condition_number(laplace_scale=0))"
   ]
  },
  {
   "cell_type": "code",
   "execution_count": 42,
   "metadata": {
    "collapsed": false
   },
   "outputs": [
    {
     "data": {
      "image/png": "[encoded data removed]",
      "text/plain": [
       "<matplotlib.figure.Figure at 0x11b05ae90>"
      ]
     },
     "metadata": {},
     "output_type": "display_data"
    }
   ],
   "source": [
    "plt.hist(cond_numbers, bins=20);"
   ]
  },
  {
   "cell_type": "code",
   "execution_count": 43,
   "metadata": {
    "collapsed": false
   },
   "outputs": [
    {
     "name": "stderr",
     "output_type": "stream",
     "text": [
      "/Users/myazdaniUCSD/anaconda/lib/python2.7/site-packages/IPython/kernel/__main__.py:21: RuntimeWarning: divide by zero encountered in log10\n",
      "/Users/myazdaniUCSD/anaconda/lib/python2.7/site-packages/IPython/kernel/__main__.py:23: RuntimeWarning: divide by zero encountered in log10\n",
      "/Users/myazdaniUCSD/anaconda/lib/python2.7/site-packages/IPython/kernel/__main__.py:25: RuntimeWarning: divide by zero encountered in log10\n",
      "/Users/myazdaniUCSD/anaconda/lib/python2.7/site-packages/IPython/kernel/__main__.py:27: RuntimeWarning: divide by zero encountered in log10\n",
      "/Users/myazdaniUCSD/anaconda/lib/python2.7/site-packages/IPython/kernel/__main__.py:36: RuntimeWarning: divide by zero encountered in log10\n",
      "/Users/myazdaniUCSD/anaconda/lib/python2.7/site-packages/IPython/kernel/__main__.py:37: RuntimeWarning: divide by zero encountered in log10\n",
      "/Users/myazdaniUCSD/anaconda/lib/python2.7/site-packages/IPython/kernel/__main__.py:38: RuntimeWarning: divide by zero encountered in log10\n"
     ]
    },
    {
     "data": {
      "text/plain": [
       "11.652880940699854"
      ]
     },
     "execution_count": 43,
     "metadata": {},
     "output_type": "execute_result"
    }
   ],
   "source": [
    "mean_ratios = RatioComputer(df_subjects = df.iloc[:,2:])\n",
    "mean_ratios.mean_ratios(laplace_scale=0)\n",
    "mean_ratios.condition_number(laplace_scale=0)"
   ]
  },
  {
   "cell_type": "code",
   "execution_count": 44,
   "metadata": {
    "collapsed": false
   },
   "outputs": [
    {
     "data": {
      "image/png": "[encoded data removed]",
      "text/plain": [
       "<matplotlib.figure.Figure at 0x120a79d90>"
      ]
     },
     "metadata": {},
     "output_type": "display_data"
    }
   ],
   "source": [
    "cond_numbers = []\n",
    "for _ in range(100):\n",
    "    mean_ratios = RatioComputer(df_subjects = df.iloc[:,2:], random_cohort=True)\n",
    "    mean_ratios.mean_ratios()\n",
    "    cond_numbers.append(mean_ratios.condition_number())\n",
    "    \n",
    "plt.hist(cond_numbers, bins=20);"
   ]
  },
  {
   "cell_type": "code",
   "execution_count": 46,
   "metadata": {
    "collapsed": false
   },
   "outputs": [
    {
     "data": {
      "text/plain": [
       "3.7347151850428562"
      ]
     },
     "execution_count": 46,
     "metadata": {},
     "output_type": "execute_result"
    }
   ],
   "source": [
    "mean_ratios = RatioComputer(df_subjects = df.iloc[:,2:], random_cohort=False)\n",
    "mean_ratios.mean_ratios()\n",
    "mean_ratios.condition_number()"
   ]
  },
  {
   "cell_type": "code",
   "execution_count": 47,
   "metadata": {
    "collapsed": false
   },
   "outputs": [
    {
     "data": {
      "image/png": "[encoded data removed]",
      "text/plain": [
       "<matplotlib.figure.Figure at 0x117a56f90>"
      ]
     },
     "metadata": {},
     "output_type": "display_data"
    }
   ],
   "source": [
    "cond_numbers = []\n",
    "for _ in range(100):\n",
    "    median_ratios = RatioComputer(df_subjects = df.iloc[:,2:], random_cohort=True)\n",
    "    median_ratios.median_ratios()\n",
    "    cond_numbers.append(median_ratios.condition_number())\n",
    "    \n",
    "plt.hist(cond_numbers, bins=20);"
   ]
  },
  {
   "cell_type": "code",
   "execution_count": 48,
   "metadata": {
    "collapsed": false
   },
   "outputs": [
    {
     "data": {
      "text/plain": [
       "3.3827740316100026"
      ]
     },
     "execution_count": 48,
     "metadata": {},
     "output_type": "execute_result"
    }
   ],
   "source": [
    "median_ratios = RatioComputer(df_subjects = df.iloc[:,2:], random_cohort=False)\n",
    "median_ratios.median_ratios()\n",
    "median_ratios.condition_number()"
   ]
  },
  {
   "cell_type": "code",
   "execution_count": 49,
   "metadata": {
    "collapsed": false
   },
   "outputs": [
    {
     "name": "stderr",
     "output_type": "stream",
     "text": [
      "/Users/myazdaniUCSD/anaconda/lib/python2.7/site-packages/IPython/kernel/__main__.py:53: RuntimeWarning: divide by zero encountered in log10\n",
      "/Users/myazdaniUCSD/anaconda/lib/python2.7/site-packages/IPython/kernel/__main__.py:54: RuntimeWarning: divide by zero encountered in log10\n",
      "/Users/myazdaniUCSD/anaconda/lib/python2.7/site-packages/IPython/kernel/__main__.py:55: RuntimeWarning: divide by zero encountered in log10\n"
     ]
    },
    {
     "data": {
      "image/png": "[encoded data removed]",
      "text/plain": [
       "<matplotlib.figure.Figure at 0x1045675d0>"
      ]
     },
     "metadata": {},
     "output_type": "display_data"
    }
   ],
   "source": [
    "cond_numbers = []\n",
    "for _ in range(100):\n",
    "    median_ratios = RatioComputer(df_subjects = df.iloc[:,2:], random_cohort=True)\n",
    "    median_ratios.median_ratios(laplace_scale=0)\n",
    "    cond_numbers.append(median_ratios.condition_number(laplace_scale=0))\n",
    "    \n",
    "plt.hist(cond_numbers, bins=20);"
   ]
  },
  {
   "cell_type": "code",
   "execution_count": 59,
   "metadata": {
    "collapsed": false
   },
   "outputs": [
    {
     "name": "stderr",
     "output_type": "stream",
     "text": [
      "/Users/myazdaniUCSD/anaconda/lib/python2.7/site-packages/IPython/kernel/__main__.py:58: RuntimeWarning: divide by zero encountered in log10\n",
      "/Users/myazdaniUCSD/anaconda/lib/python2.7/site-packages/IPython/kernel/__main__.py:59: RuntimeWarning: divide by zero encountered in log10\n",
      "/Users/myazdaniUCSD/anaconda/lib/python2.7/site-packages/IPython/kernel/__main__.py:60: RuntimeWarning: divide by zero encountered in log10\n"
     ]
    },
    {
     "data": {
      "image/png": "[encoded data removed]",
      "text/plain": [
       "<matplotlib.figure.Figure at 0x117563990>"
      ]
     },
     "metadata": {},
     "output_type": "display_data"
    }
   ],
   "source": [
    "cond_numbers = []\n",
    "for _ in range(100):\n",
    "    median_ratios = RatioComputer(df_subjects = df.iloc[:,2:], random_cohort=True)\n",
    "    median_ratios.median_ratios(laplace_scale_numerator=False)\n",
    "    cond_numbers.append(median_ratios.condition_number())\n",
    "    \n",
    "plt.hist(cond_numbers, bins=20);"
   ]
  },
  {
   "cell_type": "code",
   "execution_count": 60,
   "metadata": {
    "collapsed": false
   },
   "outputs": [
    {
     "name": "stderr",
     "output_type": "stream",
     "text": [
      "/Users/myazdaniUCSD/anaconda/lib/python2.7/site-packages/IPython/kernel/__main__.py:58: RuntimeWarning: divide by zero encountered in log10\n",
      "/Users/myazdaniUCSD/anaconda/lib/python2.7/site-packages/IPython/kernel/__main__.py:59: RuntimeWarning: divide by zero encountered in log10\n",
      "/Users/myazdaniUCSD/anaconda/lib/python2.7/site-packages/IPython/kernel/__main__.py:60: RuntimeWarning: divide by zero encountered in log10\n"
     ]
    },
    {
     "data": {
      "text/plain": [
       "38.778113886694292"
      ]
     },
     "execution_count": 60,
     "metadata": {},
     "output_type": "execute_result"
    }
   ],
   "source": [
    "median_ratios = RatioComputer(df_subjects = df.iloc[:,2:], random_cohort=False)\n",
    "median_ratios.median_ratios(laplace_scale_numerator=False)\n",
    "median_ratios.condition_number()"
   ]
  },
  {
   "cell_type": "code",
   "execution_count": 62,
   "metadata": {
    "collapsed": false
   },
   "outputs": [
    {
     "name": "stderr",
     "output_type": "stream",
     "text": [
      "/Users/myazdaniUCSD/anaconda/lib/python2.7/site-packages/IPython/kernel/__main__.py:58: RuntimeWarning: divide by zero encountered in log10\n",
      "/Users/myazdaniUCSD/anaconda/lib/python2.7/site-packages/IPython/kernel/__main__.py:59: RuntimeWarning: divide by zero encountered in log10\n",
      "/Users/myazdaniUCSD/anaconda/lib/python2.7/site-packages/IPython/kernel/__main__.py:60: RuntimeWarning: divide by zero encountered in log10\n"
     ]
    },
    {
     "data": {
      "image/png": "[encoded data removed]",
      "text/plain": [
       "<matplotlib.figure.Figure at 0x117967c50>"
      ]
     },
     "metadata": {},
     "output_type": "display_data"
    }
   ],
   "source": [
    "cond_numbers = []\n",
    "for _ in range(100):\n",
    "    median_ratios = RatioComputer(df_subjects = df.iloc[:,2:], random_cohort=True)\n",
    "    median_ratios.median_ratios(laplace_scale_numerator=False, normalize=True)\n",
    "    cond_numbers.append(median_ratios.condition_number())\n",
    "    \n",
    "plt.hist(cond_numbers, bins=20);"
   ]
  },
  {
   "cell_type": "code",
   "execution_count": 61,
   "metadata": {
    "collapsed": false
   },
   "outputs": [
    {
     "name": "stderr",
     "output_type": "stream",
     "text": [
      "/Users/myazdaniUCSD/anaconda/lib/python2.7/site-packages/IPython/kernel/__main__.py:58: RuntimeWarning: divide by zero encountered in log10\n",
      "/Users/myazdaniUCSD/anaconda/lib/python2.7/site-packages/IPython/kernel/__main__.py:59: RuntimeWarning: divide by zero encountered in log10\n",
      "/Users/myazdaniUCSD/anaconda/lib/python2.7/site-packages/IPython/kernel/__main__.py:60: RuntimeWarning: divide by zero encountered in log10\n"
     ]
    },
    {
     "data": {
      "text/plain": [
       "39.491768910285295"
      ]
     },
     "execution_count": 61,
     "metadata": {},
     "output_type": "execute_result"
    }
   ],
   "source": [
    "median_ratios = RatioComputer(df_subjects = df.iloc[:,2:], random_cohort=False)\n",
    "median_ratios.median_ratios(laplace_scale_numerator=False, normalize=True)\n",
    "median_ratios.condition_number()"
   ]
  },
  {
   "cell_type": "code",
   "execution_count": null,
   "metadata": {
    "collapsed": true
   },
   "outputs": [],
   "source": [
    "cond_numbers = []\n",
    "for _ in range(100):\n",
    "    median_ratios = RatioComputer(df_subjects = df.iloc[:,2:], random_cohort=True)\n",
    "    median_ratios.median_ratios(laplace_scale=0, laplace_scale_num)\n",
    "    cond_numbers.append(median_ratios.condition_number(laplace_scale=0))\n",
    "    \n",
    "plt.hist(cond_numbers, bins=20);\n"
   ]
  },
  {
   "cell_type": "code",
   "execution_count": 7,
   "metadata": {
    "collapsed": false,
    "scrolled": true,
    "slideshow": {
     "slide_type": "skip"
    }
   },
   "outputs": [
    {
     "name": "stdout",
     "output_type": "stream",
     "text": [
      "(10012, 35)\n",
      "(10012, 7)\n",
      "(10012, 6)\n",
      "(10012, 15)\n"
     ]
    }
   ],
   "source": [
    "HE_df = df.filter(regex=(\"HE.*\"))\n",
    "LS_df = df.filter(regex=(\"LS.*\"))\n",
    "UC_df = df.filter(regex=(\"UC.*\"))\n",
    "CD_df = df.filter(regex=(\"CD.*\"))\n",
    "\n",
    "print(HE_df.shape)\n",
    "print(LS_df.shape)\n",
    "print(UC_df.shape)\n",
    "print(CD_df.shape)"
   ]
  },
  {
   "cell_type": "code",
   "execution_count": null,
   "metadata": {
    "collapsed": true
   },
   "outputs": [],
   "source": []
  },
  {
   "cell_type": "code",
   "execution_count": 8,
   "metadata": {
    "collapsed": false
   },
   "outputs": [
    {
     "ename": "TypeError",
     "evalue": "only list-like objects are allowed to be passed to isin(), you passed a [str]",
     "output_type": "error",
     "traceback": [
      "\u001b[0;31m---------------------------------------------------------------------------\u001b[0m",
      "\u001b[0;31mTypeError\u001b[0m                                 Traceback (most recent call last)",
      "\u001b[0;32m<ipython-input-8-d51c1b5378f9>\u001b[0m in \u001b[0;36m<module>\u001b[0;34m()\u001b[0m\n\u001b[0;32m----> 1\u001b[0;31m \u001b[0mdf\u001b[0m\u001b[0;34m.\u001b[0m\u001b[0mcolumns\u001b[0m\u001b[0;34m.\u001b[0m\u001b[0misin\u001b[0m\u001b[0;34m(\u001b[0m\u001b[0;34m\"HE\"\u001b[0m\u001b[0;34m)\u001b[0m\u001b[0;34m\u001b[0m\u001b[0m\n\u001b[0m",
      "\u001b[0;32m/Users/myazdaniUCSD/anaconda/lib/python2.7/site-packages/pandas/core/indexes/base.pyc\u001b[0m in \u001b[0;36misin\u001b[0;34m(self, values, level)\u001b[0m\n\u001b[1;32m   2923\u001b[0m         \u001b[0;32mif\u001b[0m \u001b[0mlevel\u001b[0m \u001b[0;32mis\u001b[0m \u001b[0;32mnot\u001b[0m \u001b[0mNone\u001b[0m\u001b[0;34m:\u001b[0m\u001b[0;34m\u001b[0m\u001b[0m\n\u001b[1;32m   2924\u001b[0m             \u001b[0mself\u001b[0m\u001b[0;34m.\u001b[0m\u001b[0m_validate_index_level\u001b[0m\u001b[0;34m(\u001b[0m\u001b[0mlevel\u001b[0m\u001b[0;34m)\u001b[0m\u001b[0;34m\u001b[0m\u001b[0m\n\u001b[0;32m-> 2925\u001b[0;31m         \u001b[0;32mreturn\u001b[0m \u001b[0malgos\u001b[0m\u001b[0;34m.\u001b[0m\u001b[0misin\u001b[0m\u001b[0;34m(\u001b[0m\u001b[0mnp\u001b[0m\u001b[0;34m.\u001b[0m\u001b[0marray\u001b[0m\u001b[0;34m(\u001b[0m\u001b[0mself\u001b[0m\u001b[0;34m)\u001b[0m\u001b[0;34m,\u001b[0m \u001b[0mvalues\u001b[0m\u001b[0;34m)\u001b[0m\u001b[0;34m\u001b[0m\u001b[0m\n\u001b[0m\u001b[1;32m   2926\u001b[0m \u001b[0;34m\u001b[0m\u001b[0m\n\u001b[1;32m   2927\u001b[0m     \u001b[0;32mdef\u001b[0m \u001b[0m_can_reindex\u001b[0m\u001b[0;34m(\u001b[0m\u001b[0mself\u001b[0m\u001b[0;34m,\u001b[0m \u001b[0mindexer\u001b[0m\u001b[0;34m)\u001b[0m\u001b[0;34m:\u001b[0m\u001b[0;34m\u001b[0m\u001b[0m\n",
      "\u001b[0;32m/Users/myazdaniUCSD/anaconda/lib/python2.7/site-packages/pandas/core/algorithms.pyc\u001b[0m in \u001b[0;36misin\u001b[0;34m(comps, values)\u001b[0m\n\u001b[1;32m    399\u001b[0m         raise TypeError(\"only list-like objects are allowed to be passed\"\n\u001b[1;32m    400\u001b[0m                         \u001b[0;34m\" to isin(), you passed a [{values_type}]\"\u001b[0m\u001b[0;34m\u001b[0m\u001b[0m\n\u001b[0;32m--> 401\u001b[0;31m                         .format(values_type=type(values).__name__))\n\u001b[0m\u001b[1;32m    402\u001b[0m \u001b[0;34m\u001b[0m\u001b[0m\n\u001b[1;32m    403\u001b[0m     \u001b[0;32mif\u001b[0m \u001b[0;32mnot\u001b[0m \u001b[0misinstance\u001b[0m\u001b[0;34m(\u001b[0m\u001b[0mvalues\u001b[0m\u001b[0;34m,\u001b[0m \u001b[0;34m(\u001b[0m\u001b[0mABCIndex\u001b[0m\u001b[0;34m,\u001b[0m \u001b[0mABCSeries\u001b[0m\u001b[0;34m,\u001b[0m \u001b[0mnp\u001b[0m\u001b[0;34m.\u001b[0m\u001b[0mndarray\u001b[0m\u001b[0;34m)\u001b[0m\u001b[0;34m)\u001b[0m\u001b[0;34m:\u001b[0m\u001b[0;34m\u001b[0m\u001b[0m\n",
      "\u001b[0;31mTypeError\u001b[0m: only list-like objects are allowed to be passed to isin(), you passed a [str]"
     ]
    }
   ],
   "source": [
    "df.columns.isin(\"HE\")"
   ]
  },
  {
   "cell_type": "code",
   "execution_count": 9,
   "metadata": {
    "collapsed": false
   },
   "outputs": [
    {
     "data": {
      "text/plain": [
       "Index([u'kegg', u'over.abundant.health.conf', u'LS001', u'LS002', u'LS003',\n",
       "       u'LS004', u'LS005', u'LS006', u'LS007', u'CD.SRS301865',\n",
       "       u'CD.SRS301866', u'CD.SRS301867', u'CD.SRS301868', u'CD.SRS301869',\n",
       "       u'CD.SRS301870', u'CD.SRS301871', u'CD.SRS301872', u'CD.SRS301873',\n",
       "       u'CD.SRS301874', u'CD.SRS301875', u'CD.SRS301876', u'CD.SRS301877',\n",
       "       u'CD.SRS301878', u'CD.SRS301879', u'UC.SRS071964', u'UC.SRS071970',\n",
       "       u'UC.SRS071978', u'UC.SRS071981', u'UC.SRS071982', u'UC.SRS071988',\n",
       "       u'HE.SRS011061', u'HE.SRS011084', u'HE.SRS011134', u'HE.SRS011239',\n",
       "       u'HE.SRS011271', u'HE.SRS011302', u'HE.SRS011405', u'HE.SRS011452',\n",
       "       u'HE.SRS011529', u'HE.SRS011586', u'HE.SRS012273', u'HE.SRS012902',\n",
       "       u'HE.SRS013158', u'HE.SRS013215', u'HE.SRS013687', u'HE.SRS013951',\n",
       "       u'HE.SRS014235', u'HE.SRS014923', u'HE.SRS014979', u'HE.SRS015065',\n",
       "       u'HE.SRS015217', u'HE.SRS015578', u'HE.SRS015663', u'HE.SRS016018',\n",
       "       u'HE.SRS016095', u'HE.SRS016335', u'HE.SRS016495', u'HE.SRS017103',\n",
       "       u'HE.SRS017433', u'HE.SRS018427', u'HE.SRS018656', u'HE.SRS020328',\n",
       "       u'HE.SRS020869', u'HE.SRS022713', u'HE.SRS016585.suspect'],\n",
       "      dtype='object')"
      ]
     },
     "execution_count": 9,
     "metadata": {},
     "output_type": "execute_result"
    }
   ],
   "source": [
    "df.columns"
   ]
  },
  {
   "cell_type": "code",
   "execution_count": 16,
   "metadata": {
    "collapsed": false
   },
   "outputs": [],
   "source": [
    "laplace_scale = 1e-9\n",
    "\n",
    "HE_median = HE_df.apply(lambda x: np.median(x + 1*laplace_scale), axis = 1)\n",
    "LS_median = LS_df.apply(lambda x: np.median(x + 1*laplace_scale), axis = 1)\n",
    "UC_median = UC_df.apply(lambda x: np.median(x + 1*laplace_scale), axis = 1)\n",
    "CD_median = CD_df.apply(lambda x: np.median(x + 1*laplace_scale), axis = 1)"
   ]
  },
  {
   "cell_type": "code",
   "execution_count": 65,
   "metadata": {
    "collapsed": false
   },
   "outputs": [],
   "source": [
    "\n",
    "\n",
    "# df_random = df_subjects.iloc[:,np.random.permutation(np.arange(df_subjects.shape[1]))]\n",
    "\n",
    "# HE_median = df_random.iloc[:,:35].apply(lambda x: np.mean(x), axis = 1)\n",
    "# LS_median = df_random.iloc[:,35:(35+7)].apply(lambda x: np.mean(x), axis = 1)\n",
    "# UC_median = df_random.iloc[:,(35+7):(35+7+6)].apply(lambda x: np.mean(x), axis = 1)\n",
    "# CD_median = df_random.iloc[:,(35+7+6):].apply(lambda x: np.mean(x), axis = 1)"
   ]
  },
  {
   "cell_type": "code",
   "execution_count": 66,
   "metadata": {
    "collapsed": false,
    "slideshow": {
     "slide_type": "skip"
    }
   },
   "outputs": [
    {
     "name": "stderr",
     "output_type": "stream",
     "text": [
      "/Users/myazdaniUCSD/anaconda/lib/python2.7/site-packages/IPython/kernel/__main__.py:1: RuntimeWarning:\n",
      "\n",
      "divide by zero encountered in log10\n",
      "\n",
      "/Users/myazdaniUCSD/anaconda/lib/python2.7/site-packages/IPython/kernel/__main__.py:2: RuntimeWarning:\n",
      "\n",
      "divide by zero encountered in log10\n",
      "\n",
      "/Users/myazdaniUCSD/anaconda/lib/python2.7/site-packages/IPython/kernel/__main__.py:3: RuntimeWarning:\n",
      "\n",
      "divide by zero encountered in log10\n",
      "\n"
     ]
    }
   ],
   "source": [
    "LS_HE_median = np.log10((LS_median+0*laplace_scale)/(HE_median+0*laplace_scale))\n",
    "UC_HE_median = np.log10((UC_median+0*laplace_scale)/(HE_median+0*laplace_scale))\n",
    "CD_HE_median = np.log10((CD_median+0*laplace_scale)/(HE_median+0*laplace_scale))"
   ]
  },
  {
   "cell_type": "code",
   "execution_count": 69,
   "metadata": {
    "collapsed": false,
    "slideshow": {
     "slide_type": "skip"
    }
   },
   "outputs": [
    {
     "data": {
      "image/png": "[encoded data removed]",
      "text/plain": [
       "<matplotlib.figure.Figure at 0x120add950>"
      ]
     },
     "metadata": {},
     "output_type": "display_data"
    }
   ],
   "source": [
    "plt.plot(LS_HE_median, CD_HE_median, '.');"
   ]
  },
  {
   "cell_type": "code",
   "execution_count": 70,
   "metadata": {
    "collapsed": false
   },
   "outputs": [
    {
     "data": {
      "text/plain": [
       "array([[-0.42351641,        -inf,        -inf, -0.67503472],\n",
       "       [-0.00365176,         nan,        -inf,         inf],\n",
       "       [-0.21846872,        -inf,        -inf,         inf]])"
      ]
     },
     "execution_count": 70,
     "metadata": {},
     "output_type": "execute_result"
    }
   ],
   "source": [
    "ratio_matrix = np.array([LS_HE_median, UC_HE_median, CD_HE_median])\n",
    "ratio_matrix[:,:4]"
   ]
  },
  {
   "cell_type": "code",
   "execution_count": 71,
   "metadata": {
    "collapsed": false
   },
   "outputs": [],
   "source": [
    "ratio_matrix_finite = ratio_matrix[:,np.all(np.isfinite(ratio_matrix), axis=0)]"
   ]
  },
  {
   "cell_type": "code",
   "execution_count": 72,
   "metadata": {
    "collapsed": false
   },
   "outputs": [],
   "source": [
    "ratio_matrix_cov = np.cov(ratio_matrix_finite)\n",
    "w, v = np.linalg.eig(ratio_matrix_cov)"
   ]
  },
  {
   "cell_type": "code",
   "execution_count": 74,
   "metadata": {
    "collapsed": false
   },
   "outputs": [
    {
     "data": {
      "text/plain": [
       "array([ 0.24282503,  0.0208382 ,  0.07495465])"
      ]
     },
     "execution_count": 74,
     "metadata": {},
     "output_type": "execute_result"
    }
   ],
   "source": [
    "w"
   ]
  },
  {
   "cell_type": "code",
   "execution_count": 75,
   "metadata": {
    "collapsed": false
   },
   "outputs": [
    {
     "data": {
      "text/plain": [
       "11.652880940699854"
      ]
     },
     "execution_count": 75,
     "metadata": {},
     "output_type": "execute_result"
    }
   ],
   "source": [
    "np.max(w)/np.min(w)"
   ]
  }
 ],
 "metadata": {
  "celltoolbar": "Slideshow",
  "kernelspec": {
   "display_name": "Python 2",
   "language": "python",
   "name": "python2"
  },
  "language_info": {
   "codemirror_mode": {
    "name": "ipython",
    "version": 2
   },
   "file_extension": ".py",
   "mimetype": "text/x-python",
   "name": "python",
   "nbconvert_exporter": "python",
   "pygments_lexer": "ipython2",
   "version": "2.7.12"
  }
 },
 "nbformat": 4,
 "nbformat_minor": 1
}
