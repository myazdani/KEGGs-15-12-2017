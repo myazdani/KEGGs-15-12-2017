{
 "cells": [
  {
   "cell_type": "code",
   "execution_count": 1,
   "metadata": {},
   "outputs": [],
   "source": [
    "import pandas as pd"
   ]
  },
  {
   "cell_type": "code",
   "execution_count": 2,
   "metadata": {},
   "outputs": [
    {
     "data": {
      "text/html": [
       "<div>\n",
       "<style scoped>\n",
       "    .dataframe tbody tr th:only-of-type {\n",
       "        vertical-align: middle;\n",
       "    }\n",
       "\n",
       "    .dataframe tbody tr th {\n",
       "        vertical-align: top;\n",
       "    }\n",
       "\n",
       "    .dataframe thead th {\n",
       "        text-align: right;\n",
       "    }\n",
       "</style>\n",
       "<table border=\"1\" class=\"dataframe\">\n",
       "  <thead>\n",
       "    <tr style=\"text-align: right;\">\n",
       "      <th></th>\n",
       "      <th>kegg</th>\n",
       "      <th>over.abundant.health.conf</th>\n",
       "      <th>LS001</th>\n",
       "      <th>LS002</th>\n",
       "      <th>LS003</th>\n",
       "      <th>LS004</th>\n",
       "      <th>LS005</th>\n",
       "      <th>LS006</th>\n",
       "      <th>LS007</th>\n",
       "      <th>CD.SRS301865</th>\n",
       "      <th>...</th>\n",
       "      <th>HE.SRS016335</th>\n",
       "      <th>HE.SRS016495</th>\n",
       "      <th>HE.SRS017103</th>\n",
       "      <th>HE.SRS017433</th>\n",
       "      <th>HE.SRS018427</th>\n",
       "      <th>HE.SRS018656</th>\n",
       "      <th>HE.SRS020328</th>\n",
       "      <th>HE.SRS020869</th>\n",
       "      <th>HE.SRS022713</th>\n",
       "      <th>HE.SRS016585.suspect</th>\n",
       "    </tr>\n",
       "  </thead>\n",
       "  <tbody>\n",
       "    <tr>\n",
       "      <th>0</th>\n",
       "      <td>K00001(alcohol_dehydrogenase)</td>\n",
       "      <td>0.366</td>\n",
       "      <td>0.005732</td>\n",
       "      <td>0.006140</td>\n",
       "      <td>0.006243</td>\n",
       "      <td>0.005962</td>\n",
       "      <td>0.008011</td>\n",
       "      <td>0.004744</td>\n",
       "      <td>0.005444</td>\n",
       "      <td>0.005043</td>\n",
       "      <td>...</td>\n",
       "      <td>0.002705</td>\n",
       "      <td>0.005025</td>\n",
       "      <td>0.003359</td>\n",
       "      <td>0.004281</td>\n",
       "      <td>0.003052</td>\n",
       "      <td>0.003625</td>\n",
       "      <td>0.002673</td>\n",
       "      <td>0.003999</td>\n",
       "      <td>0.003734</td>\n",
       "      <td>8.220359e-03</td>\n",
       "    </tr>\n",
       "    <tr>\n",
       "      <th>1</th>\n",
       "      <td>K00002(alcohol_dehydrogenase_(NADP+))</td>\n",
       "      <td>0.312</td>\n",
       "      <td>0.000382</td>\n",
       "      <td>0.000409</td>\n",
       "      <td>0.000610</td>\n",
       "      <td>0.000533</td>\n",
       "      <td>0.000313</td>\n",
       "      <td>0.000412</td>\n",
       "      <td>0.000390</td>\n",
       "      <td>0.001005</td>\n",
       "      <td>...</td>\n",
       "      <td>0.000461</td>\n",
       "      <td>0.000255</td>\n",
       "      <td>0.000071</td>\n",
       "      <td>0.000014</td>\n",
       "      <td>0.000248</td>\n",
       "      <td>0.000649</td>\n",
       "      <td>0.000151</td>\n",
       "      <td>0.000157</td>\n",
       "      <td>0.000000</td>\n",
       "      <td>4.812945e-07</td>\n",
       "    </tr>\n",
       "    <tr>\n",
       "      <th>2</th>\n",
       "      <td>K00003(homoserine_dehydrogenase)</td>\n",
       "      <td>0.310</td>\n",
       "      <td>0.000855</td>\n",
       "      <td>0.001034</td>\n",
       "      <td>0.001125</td>\n",
       "      <td>0.001074</td>\n",
       "      <td>0.001224</td>\n",
       "      <td>0.000721</td>\n",
       "      <td>0.000786</td>\n",
       "      <td>0.001025</td>\n",
       "      <td>...</td>\n",
       "      <td>0.000195</td>\n",
       "      <td>0.001063</td>\n",
       "      <td>0.000249</td>\n",
       "      <td>0.000131</td>\n",
       "      <td>0.000351</td>\n",
       "      <td>0.000676</td>\n",
       "      <td>0.000430</td>\n",
       "      <td>0.000318</td>\n",
       "      <td>0.000050</td>\n",
       "      <td>1.209999e-06</td>\n",
       "    </tr>\n",
       "    <tr>\n",
       "      <th>3</th>\n",
       "      <td>K00004((R,R)-butanediol_dehydrogenase_/_diacet...</td>\n",
       "      <td>0.192</td>\n",
       "      <td>0.000091</td>\n",
       "      <td>0.000106</td>\n",
       "      <td>0.000149</td>\n",
       "      <td>0.000116</td>\n",
       "      <td>0.000064</td>\n",
       "      <td>0.000084</td>\n",
       "      <td>0.000080</td>\n",
       "      <td>0.000016</td>\n",
       "      <td>...</td>\n",
       "      <td>0.000006</td>\n",
       "      <td>0.000025</td>\n",
       "      <td>0.000008</td>\n",
       "      <td>0.000008</td>\n",
       "      <td>0.000014</td>\n",
       "      <td>0.000039</td>\n",
       "      <td>0.000068</td>\n",
       "      <td>0.000010</td>\n",
       "      <td>0.000006</td>\n",
       "      <td>4.127393e-04</td>\n",
       "    </tr>\n",
       "    <tr>\n",
       "      <th>4</th>\n",
       "      <td>K00005(glycerol_dehydrogenase)</td>\n",
       "      <td>0.004</td>\n",
       "      <td>0.000167</td>\n",
       "      <td>0.000236</td>\n",
       "      <td>0.000223</td>\n",
       "      <td>0.000203</td>\n",
       "      <td>0.000218</td>\n",
       "      <td>0.000144</td>\n",
       "      <td>0.000143</td>\n",
       "      <td>0.000166</td>\n",
       "      <td>...</td>\n",
       "      <td>0.000012</td>\n",
       "      <td>0.000427</td>\n",
       "      <td>0.000030</td>\n",
       "      <td>0.000004</td>\n",
       "      <td>0.000034</td>\n",
       "      <td>0.000036</td>\n",
       "      <td>0.000055</td>\n",
       "      <td>0.000065</td>\n",
       "      <td>0.000000</td>\n",
       "      <td>2.158647e-04</td>\n",
       "    </tr>\n",
       "  </tbody>\n",
       "</table>\n",
       "<p>5 rows × 65 columns</p>\n",
       "</div>"
      ],
      "text/plain": [
       "                                                kegg  \\\n",
       "0                      K00001(alcohol_dehydrogenase)   \n",
       "1              K00002(alcohol_dehydrogenase_(NADP+))   \n",
       "2                   K00003(homoserine_dehydrogenase)   \n",
       "3  K00004((R,R)-butanediol_dehydrogenase_/_diacet...   \n",
       "4                     K00005(glycerol_dehydrogenase)   \n",
       "\n",
       "   over.abundant.health.conf     LS001     LS002     LS003     LS004  \\\n",
       "0                      0.366  0.005732  0.006140  0.006243  0.005962   \n",
       "1                      0.312  0.000382  0.000409  0.000610  0.000533   \n",
       "2                      0.310  0.000855  0.001034  0.001125  0.001074   \n",
       "3                      0.192  0.000091  0.000106  0.000149  0.000116   \n",
       "4                      0.004  0.000167  0.000236  0.000223  0.000203   \n",
       "\n",
       "      LS005     LS006     LS007  CD.SRS301865          ...           \\\n",
       "0  0.008011  0.004744  0.005444      0.005043          ...            \n",
       "1  0.000313  0.000412  0.000390      0.001005          ...            \n",
       "2  0.001224  0.000721  0.000786      0.001025          ...            \n",
       "3  0.000064  0.000084  0.000080      0.000016          ...            \n",
       "4  0.000218  0.000144  0.000143      0.000166          ...            \n",
       "\n",
       "   HE.SRS016335  HE.SRS016495  HE.SRS017103  HE.SRS017433  HE.SRS018427  \\\n",
       "0      0.002705      0.005025      0.003359      0.004281      0.003052   \n",
       "1      0.000461      0.000255      0.000071      0.000014      0.000248   \n",
       "2      0.000195      0.001063      0.000249      0.000131      0.000351   \n",
       "3      0.000006      0.000025      0.000008      0.000008      0.000014   \n",
       "4      0.000012      0.000427      0.000030      0.000004      0.000034   \n",
       "\n",
       "   HE.SRS018656  HE.SRS020328  HE.SRS020869  HE.SRS022713  \\\n",
       "0      0.003625      0.002673      0.003999      0.003734   \n",
       "1      0.000649      0.000151      0.000157      0.000000   \n",
       "2      0.000676      0.000430      0.000318      0.000050   \n",
       "3      0.000039      0.000068      0.000010      0.000006   \n",
       "4      0.000036      0.000055      0.000065      0.000000   \n",
       "\n",
       "   HE.SRS016585.suspect  \n",
       "0          8.220359e-03  \n",
       "1          4.812945e-07  \n",
       "2          1.209999e-06  \n",
       "3          4.127393e-04  \n",
       "4          2.158647e-04  \n",
       "\n",
       "[5 rows x 65 columns]"
      ]
     },
     "execution_count": 2,
     "metadata": {},
     "output_type": "execute_result"
    }
   ],
   "source": [
    "df = pd.read_csv(\"../data/keggs-subjects-rf-scores.csv\")\n",
    "df.head()"
   ]
  },
  {
   "cell_type": "code",
   "execution_count": 6,
   "metadata": {},
   "outputs": [
    {
     "data": {
      "text/plain": [
       "['K00001', 'K00002', 'K00003', 'K00004']"
      ]
     },
     "execution_count": 6,
     "metadata": {},
     "output_type": "execute_result"
    }
   ],
   "source": [
    "keggs = list(df.kegg)\n",
    "kegg_ids = [kegg.split(\"(\")[0] for kegg in keggs]\n",
    "kegg_ids[:4]"
   ]
  },
  {
   "cell_type": "code",
   "execution_count": 7,
   "metadata": {},
   "outputs": [],
   "source": [
    "from bioservices.kegg import KEGG\n",
    "k = KEGG()"
   ]
  },
  {
   "cell_type": "code",
   "execution_count": 8,
   "metadata": {},
   "outputs": [],
   "source": [
    "res = k.parse(k.get('K01369'))"
   ]
  },
  {
   "cell_type": "code",
   "execution_count": 12,
   "metadata": {},
   "outputs": [],
   "source": [
    "res = {}\n",
    "keggs_not_found = []\n",
    "for kegg_id in kegg_ids:\n",
    "    try:\n",
    "        res[kegg_id] = k.parse(k.get(kegg_id))\n",
    "    except:\n",
    "        keggs_not_found.append(kegg_id)"
   ]
  },
  {
   "cell_type": "code",
   "execution_count": 13,
   "metadata": {},
   "outputs": [
    {
     "data": {
      "text/plain": [
       "[]"
      ]
     },
     "execution_count": 13,
     "metadata": {},
     "output_type": "execute_result"
    }
   ],
   "source": [
    "keggs_not_found "
   ]
  },
  {
   "cell_type": "code",
   "execution_count": 14,
   "metadata": {},
   "outputs": [],
   "source": [
    "## all keggs found!"
   ]
  },
  {
   "cell_type": "code",
   "execution_count": 17,
   "metadata": {},
   "outputs": [],
   "source": [
    "import json\n",
    "with open('../data/kegg_queries.json', 'w') as fp:\n",
    "    json.dump(res, fp)"
   ]
  },
  {
   "cell_type": "code",
   "execution_count": 25,
   "metadata": {},
   "outputs": [],
   "source": [
    "## lit keggs"
   ]
  },
  {
   "cell_type": "code",
   "execution_count": 26,
   "metadata": {},
   "outputs": [],
   "source": [
    "df_lit_keggs = pd.read_csv(\"../data/ibd_uc_cd_keggs.txt\", header = None)\n",
    "lit_keggs = list(df_lit_keggs.iloc[:,0])"
   ]
  },
  {
   "cell_type": "code",
   "execution_count": 28,
   "metadata": {},
   "outputs": [],
   "source": [
    "lit_res = {}\n",
    "keggs_not_found = []\n",
    "for kegg_id in lit_keggs:\n",
    "    try:\n",
    "        lit_res[kegg_id] = k.parse(k.get(kegg_id))\n",
    "    except:\n",
    "        keggs_not_found.append(kegg_id)"
   ]
  },
  {
   "cell_type": "code",
   "execution_count": 29,
   "metadata": {},
   "outputs": [
    {
     "data": {
      "text/plain": [
       "[]"
      ]
     },
     "execution_count": 29,
     "metadata": {},
     "output_type": "execute_result"
    }
   ],
   "source": [
    "keggs_not_found "
   ]
  },
  {
   "cell_type": "code",
   "execution_count": 30,
   "metadata": {},
   "outputs": [],
   "source": [
    "## all keggs found!"
   ]
  },
  {
   "cell_type": "code",
   "execution_count": 36,
   "metadata": {},
   "outputs": [],
   "source": [
    "with open('../data/literature_kegg_queries.json', 'w') as fp:\n",
    "    json.dump(lit_res, fp)"
   ]
  },
  {
   "cell_type": "code",
   "execution_count": null,
   "metadata": {},
   "outputs": [],
   "source": []
  }
 ],
 "metadata": {
  "kernelspec": {
   "display_name": "Python 3",
   "language": "python",
   "name": "python3"
  },
  "language_info": {
   "codemirror_mode": {
    "name": "ipython",
    "version": 3
   },
   "file_extension": ".py",
   "mimetype": "text/x-python",
   "name": "python",
   "nbconvert_exporter": "python",
   "pygments_lexer": "ipython3",
   "version": "3.6.3"
  }
 },
 "nbformat": 4,
 "nbformat_minor": 2
}
