{
 "cells": [
  {
   "cell_type": "markdown",
   "metadata": {},
   "source": [
    "# Investigating cohorts that have equal median keggs"
   ]
  },
  {
   "cell_type": "code",
   "execution_count": 1,
   "metadata": {
    "collapsed": true
   },
   "outputs": [],
   "source": [
    "import pandas as pd\n",
    "import numpy as np\n",
    "\n",
    "import matplotlib.pylab as plt\n",
    "%matplotlib inline"
   ]
  },
  {
   "cell_type": "code",
   "execution_count": 2,
   "metadata": {
    "collapsed": true
   },
   "outputs": [],
   "source": [
    "df = pd.read_csv(\"../data/keggs-subjects-rf-scores.csv\")"
   ]
  },
  {
   "cell_type": "code",
   "execution_count": 3,
   "metadata": {
    "collapsed": true
   },
   "outputs": [],
   "source": [
    "HE_df = df.filter(regex=(\"HE.*\"))\n",
    "LS_df = df.filter(regex=(\"LS.*\"))\n",
    "UC_df = df.filter(regex=(\"UC.*\"))\n",
    "CD_df = df.filter(regex=(\"CD.*\"))\n",
    "\n",
    "HE_median = HE_df.apply(lambda x: np.median(x), axis = 1)\n",
    "LS_median = LS_df.apply(lambda x: np.median(x), axis = 1)\n",
    "UC_median = UC_df.apply(lambda x: np.median(x), axis = 1)\n",
    "CD_median = CD_df.apply(lambda x: np.median(x), axis = 1)"
   ]
  },
  {
   "cell_type": "code",
   "execution_count": 4,
   "metadata": {
    "collapsed": true
   },
   "outputs": [],
   "source": [
    "laplace_scale = 1e-9"
   ]
  },
  {
   "cell_type": "code",
   "execution_count": 5,
   "metadata": {
    "collapsed": true
   },
   "outputs": [],
   "source": [
    "LS_HE_median = (LS_median+laplace_scale)/(HE_median+laplace_scale)\n",
    "UC_HE_median = (UC_median+laplace_scale)/(HE_median+laplace_scale)\n",
    "CD_HE_median = (CD_median+laplace_scale)/(HE_median+laplace_scale)"
   ]
  },
  {
   "cell_type": "code",
   "execution_count": 35,
   "metadata": {
    "collapsed": false
   },
   "outputs": [],
   "source": [
    "indx = ((LS_HE_median == CD_HE_median) & \n",
    "        (UC_HE_median == CD_HE_median) &\n",
    "        (LS_HE_median == UC_HE_median) & \n",
    "        (np.log10(LS_HE_median) < -2))"
   ]
  },
  {
   "cell_type": "code",
   "execution_count": 44,
   "metadata": {
    "collapsed": false
   },
   "outputs": [
    {
     "data": {
      "text/html": [
       "<div>\n",
       "<style scoped>\n",
       "    .dataframe tbody tr th:only-of-type {\n",
       "        vertical-align: middle;\n",
       "    }\n",
       "\n",
       "    .dataframe tbody tr th {\n",
       "        vertical-align: top;\n",
       "    }\n",
       "\n",
       "    .dataframe thead th {\n",
       "        text-align: right;\n",
       "    }\n",
       "</style>\n",
       "<table border=\"1\" class=\"dataframe\">\n",
       "  <thead>\n",
       "    <tr style=\"text-align: right;\">\n",
       "      <th></th>\n",
       "      <th>CD.SRS301865</th>\n",
       "      <th>CD.SRS301866</th>\n",
       "      <th>CD.SRS301867</th>\n",
       "      <th>CD.SRS301868</th>\n",
       "      <th>CD.SRS301869</th>\n",
       "      <th>CD.SRS301870</th>\n",
       "      <th>CD.SRS301871</th>\n",
       "      <th>CD.SRS301872</th>\n",
       "      <th>CD.SRS301873</th>\n",
       "      <th>CD.SRS301874</th>\n",
       "      <th>CD.SRS301875</th>\n",
       "      <th>CD.SRS301876</th>\n",
       "      <th>CD.SRS301877</th>\n",
       "      <th>CD.SRS301878</th>\n",
       "      <th>CD.SRS301879</th>\n",
       "    </tr>\n",
       "  </thead>\n",
       "  <tbody>\n",
       "    <tr>\n",
       "      <th>24</th>\n",
       "      <td>0.000000e+00</td>\n",
       "      <td>0.0</td>\n",
       "      <td>0.0</td>\n",
       "      <td>0.0</td>\n",
       "      <td>0.0</td>\n",
       "      <td>0.0</td>\n",
       "      <td>0.0</td>\n",
       "      <td>0.000000e+00</td>\n",
       "      <td>0.000000</td>\n",
       "      <td>0.0</td>\n",
       "      <td>0.0</td>\n",
       "      <td>1.328346e-06</td>\n",
       "      <td>0.000000e+00</td>\n",
       "      <td>0.0</td>\n",
       "      <td>6.371208e-06</td>\n",
       "    </tr>\n",
       "    <tr>\n",
       "      <th>560</th>\n",
       "      <td>0.000000e+00</td>\n",
       "      <td>0.0</td>\n",
       "      <td>0.0</td>\n",
       "      <td>0.0</td>\n",
       "      <td>0.0</td>\n",
       "      <td>0.0</td>\n",
       "      <td>0.0</td>\n",
       "      <td>0.000000e+00</td>\n",
       "      <td>0.000000</td>\n",
       "      <td>0.0</td>\n",
       "      <td>0.0</td>\n",
       "      <td>0.000000e+00</td>\n",
       "      <td>0.000000e+00</td>\n",
       "      <td>0.0</td>\n",
       "      <td>0.000000e+00</td>\n",
       "    </tr>\n",
       "    <tr>\n",
       "      <th>872</th>\n",
       "      <td>0.000000e+00</td>\n",
       "      <td>0.0</td>\n",
       "      <td>0.0</td>\n",
       "      <td>0.0</td>\n",
       "      <td>0.0</td>\n",
       "      <td>0.0</td>\n",
       "      <td>0.0</td>\n",
       "      <td>0.000000e+00</td>\n",
       "      <td>0.000000</td>\n",
       "      <td>0.0</td>\n",
       "      <td>0.0</td>\n",
       "      <td>4.118493e-07</td>\n",
       "      <td>0.000000e+00</td>\n",
       "      <td>0.0</td>\n",
       "      <td>2.746256e-06</td>\n",
       "    </tr>\n",
       "    <tr>\n",
       "      <th>2454</th>\n",
       "      <td>0.000000e+00</td>\n",
       "      <td>0.0</td>\n",
       "      <td>0.0</td>\n",
       "      <td>0.0</td>\n",
       "      <td>0.0</td>\n",
       "      <td>0.0</td>\n",
       "      <td>0.0</td>\n",
       "      <td>0.000000e+00</td>\n",
       "      <td>0.000000</td>\n",
       "      <td>0.0</td>\n",
       "      <td>0.0</td>\n",
       "      <td>0.000000e+00</td>\n",
       "      <td>0.000000e+00</td>\n",
       "      <td>0.0</td>\n",
       "      <td>0.000000e+00</td>\n",
       "    </tr>\n",
       "    <tr>\n",
       "      <th>3175</th>\n",
       "      <td>0.000000e+00</td>\n",
       "      <td>0.0</td>\n",
       "      <td>0.0</td>\n",
       "      <td>0.0</td>\n",
       "      <td>0.0</td>\n",
       "      <td>0.0</td>\n",
       "      <td>0.0</td>\n",
       "      <td>0.000000e+00</td>\n",
       "      <td>0.000000</td>\n",
       "      <td>0.0</td>\n",
       "      <td>0.0</td>\n",
       "      <td>0.000000e+00</td>\n",
       "      <td>0.000000e+00</td>\n",
       "      <td>0.0</td>\n",
       "      <td>0.000000e+00</td>\n",
       "    </tr>\n",
       "    <tr>\n",
       "      <th>3985</th>\n",
       "      <td>6.154121e-07</td>\n",
       "      <td>0.0</td>\n",
       "      <td>0.0</td>\n",
       "      <td>0.0</td>\n",
       "      <td>0.0</td>\n",
       "      <td>0.0</td>\n",
       "      <td>0.0</td>\n",
       "      <td>0.000000e+00</td>\n",
       "      <td>0.000000</td>\n",
       "      <td>0.0</td>\n",
       "      <td>0.0</td>\n",
       "      <td>0.000000e+00</td>\n",
       "      <td>0.000000e+00</td>\n",
       "      <td>0.0</td>\n",
       "      <td>0.000000e+00</td>\n",
       "    </tr>\n",
       "    <tr>\n",
       "      <th>4860</th>\n",
       "      <td>0.000000e+00</td>\n",
       "      <td>0.0</td>\n",
       "      <td>0.0</td>\n",
       "      <td>0.0</td>\n",
       "      <td>0.0</td>\n",
       "      <td>0.0</td>\n",
       "      <td>0.0</td>\n",
       "      <td>0.000000e+00</td>\n",
       "      <td>0.000000</td>\n",
       "      <td>0.0</td>\n",
       "      <td>0.0</td>\n",
       "      <td>0.000000e+00</td>\n",
       "      <td>0.000000e+00</td>\n",
       "      <td>0.0</td>\n",
       "      <td>7.673885e-07</td>\n",
       "    </tr>\n",
       "    <tr>\n",
       "      <th>5462</th>\n",
       "      <td>0.000000e+00</td>\n",
       "      <td>0.0</td>\n",
       "      <td>0.0</td>\n",
       "      <td>0.0</td>\n",
       "      <td>0.0</td>\n",
       "      <td>0.0</td>\n",
       "      <td>0.0</td>\n",
       "      <td>0.000000e+00</td>\n",
       "      <td>0.000000</td>\n",
       "      <td>0.0</td>\n",
       "      <td>0.0</td>\n",
       "      <td>0.000000e+00</td>\n",
       "      <td>0.000000e+00</td>\n",
       "      <td>0.0</td>\n",
       "      <td>0.000000e+00</td>\n",
       "    </tr>\n",
       "    <tr>\n",
       "      <th>5738</th>\n",
       "      <td>0.000000e+00</td>\n",
       "      <td>0.0</td>\n",
       "      <td>0.0</td>\n",
       "      <td>0.0</td>\n",
       "      <td>0.0</td>\n",
       "      <td>0.0</td>\n",
       "      <td>0.0</td>\n",
       "      <td>0.000000e+00</td>\n",
       "      <td>0.000000</td>\n",
       "      <td>0.0</td>\n",
       "      <td>0.0</td>\n",
       "      <td>0.000000e+00</td>\n",
       "      <td>0.000000e+00</td>\n",
       "      <td>0.0</td>\n",
       "      <td>0.000000e+00</td>\n",
       "    </tr>\n",
       "    <tr>\n",
       "      <th>5759</th>\n",
       "      <td>0.000000e+00</td>\n",
       "      <td>0.0</td>\n",
       "      <td>0.0</td>\n",
       "      <td>0.0</td>\n",
       "      <td>0.0</td>\n",
       "      <td>0.0</td>\n",
       "      <td>0.0</td>\n",
       "      <td>0.000000e+00</td>\n",
       "      <td>0.000000</td>\n",
       "      <td>0.0</td>\n",
       "      <td>0.0</td>\n",
       "      <td>0.000000e+00</td>\n",
       "      <td>0.000000e+00</td>\n",
       "      <td>0.0</td>\n",
       "      <td>0.000000e+00</td>\n",
       "    </tr>\n",
       "    <tr>\n",
       "      <th>5963</th>\n",
       "      <td>0.000000e+00</td>\n",
       "      <td>0.0</td>\n",
       "      <td>0.0</td>\n",
       "      <td>0.0</td>\n",
       "      <td>0.0</td>\n",
       "      <td>0.0</td>\n",
       "      <td>0.0</td>\n",
       "      <td>0.000000e+00</td>\n",
       "      <td>0.000000</td>\n",
       "      <td>0.0</td>\n",
       "      <td>0.0</td>\n",
       "      <td>0.000000e+00</td>\n",
       "      <td>0.000000e+00</td>\n",
       "      <td>0.0</td>\n",
       "      <td>0.000000e+00</td>\n",
       "    </tr>\n",
       "    <tr>\n",
       "      <th>8183</th>\n",
       "      <td>0.000000e+00</td>\n",
       "      <td>0.0</td>\n",
       "      <td>0.0</td>\n",
       "      <td>0.0</td>\n",
       "      <td>0.0</td>\n",
       "      <td>0.0</td>\n",
       "      <td>0.0</td>\n",
       "      <td>0.000000e+00</td>\n",
       "      <td>0.000000</td>\n",
       "      <td>0.0</td>\n",
       "      <td>0.0</td>\n",
       "      <td>0.000000e+00</td>\n",
       "      <td>0.000000e+00</td>\n",
       "      <td>0.0</td>\n",
       "      <td>7.459833e-08</td>\n",
       "    </tr>\n",
       "    <tr>\n",
       "      <th>8930</th>\n",
       "      <td>0.000000e+00</td>\n",
       "      <td>0.0</td>\n",
       "      <td>0.0</td>\n",
       "      <td>0.0</td>\n",
       "      <td>0.0</td>\n",
       "      <td>0.0</td>\n",
       "      <td>0.0</td>\n",
       "      <td>2.136346e-07</td>\n",
       "      <td>0.000000</td>\n",
       "      <td>0.0</td>\n",
       "      <td>0.0</td>\n",
       "      <td>0.000000e+00</td>\n",
       "      <td>0.000000e+00</td>\n",
       "      <td>0.0</td>\n",
       "      <td>3.743471e-07</td>\n",
       "    </tr>\n",
       "    <tr>\n",
       "      <th>9430</th>\n",
       "      <td>0.000000e+00</td>\n",
       "      <td>0.0</td>\n",
       "      <td>0.0</td>\n",
       "      <td>0.0</td>\n",
       "      <td>0.0</td>\n",
       "      <td>0.0</td>\n",
       "      <td>0.0</td>\n",
       "      <td>0.000000e+00</td>\n",
       "      <td>0.000004</td>\n",
       "      <td>0.0</td>\n",
       "      <td>0.0</td>\n",
       "      <td>0.000000e+00</td>\n",
       "      <td>8.707408e-07</td>\n",
       "      <td>0.0</td>\n",
       "      <td>1.335932e-06</td>\n",
       "    </tr>\n",
       "    <tr>\n",
       "      <th>9789</th>\n",
       "      <td>0.000000e+00</td>\n",
       "      <td>0.0</td>\n",
       "      <td>0.0</td>\n",
       "      <td>0.0</td>\n",
       "      <td>0.0</td>\n",
       "      <td>0.0</td>\n",
       "      <td>0.0</td>\n",
       "      <td>0.000000e+00</td>\n",
       "      <td>0.000000</td>\n",
       "      <td>0.0</td>\n",
       "      <td>0.0</td>\n",
       "      <td>0.000000e+00</td>\n",
       "      <td>0.000000e+00</td>\n",
       "      <td>0.0</td>\n",
       "      <td>2.215347e-07</td>\n",
       "    </tr>\n",
       "  </tbody>\n",
       "</table>\n",
       "</div>"
      ],
      "text/plain": [
       "      CD.SRS301865  CD.SRS301866  CD.SRS301867  CD.SRS301868  CD.SRS301869  CD.SRS301870  CD.SRS301871  CD.SRS301872  CD.SRS301873  CD.SRS301874  CD.SRS301875  CD.SRS301876  CD.SRS301877  CD.SRS301878  CD.SRS301879\n",
       "24    0.000000e+00           0.0           0.0           0.0           0.0           0.0           0.0  0.000000e+00      0.000000           0.0           0.0  1.328346e-06  0.000000e+00           0.0  6.371208e-06\n",
       "560   0.000000e+00           0.0           0.0           0.0           0.0           0.0           0.0  0.000000e+00      0.000000           0.0           0.0  0.000000e+00  0.000000e+00           0.0  0.000000e+00\n",
       "872   0.000000e+00           0.0           0.0           0.0           0.0           0.0           0.0  0.000000e+00      0.000000           0.0           0.0  4.118493e-07  0.000000e+00           0.0  2.746256e-06\n",
       "2454  0.000000e+00           0.0           0.0           0.0           0.0           0.0           0.0  0.000000e+00      0.000000           0.0           0.0  0.000000e+00  0.000000e+00           0.0  0.000000e+00\n",
       "3175  0.000000e+00           0.0           0.0           0.0           0.0           0.0           0.0  0.000000e+00      0.000000           0.0           0.0  0.000000e+00  0.000000e+00           0.0  0.000000e+00\n",
       "3985  6.154121e-07           0.0           0.0           0.0           0.0           0.0           0.0  0.000000e+00      0.000000           0.0           0.0  0.000000e+00  0.000000e+00           0.0  0.000000e+00\n",
       "4860  0.000000e+00           0.0           0.0           0.0           0.0           0.0           0.0  0.000000e+00      0.000000           0.0           0.0  0.000000e+00  0.000000e+00           0.0  7.673885e-07\n",
       "5462  0.000000e+00           0.0           0.0           0.0           0.0           0.0           0.0  0.000000e+00      0.000000           0.0           0.0  0.000000e+00  0.000000e+00           0.0  0.000000e+00\n",
       "5738  0.000000e+00           0.0           0.0           0.0           0.0           0.0           0.0  0.000000e+00      0.000000           0.0           0.0  0.000000e+00  0.000000e+00           0.0  0.000000e+00\n",
       "5759  0.000000e+00           0.0           0.0           0.0           0.0           0.0           0.0  0.000000e+00      0.000000           0.0           0.0  0.000000e+00  0.000000e+00           0.0  0.000000e+00\n",
       "5963  0.000000e+00           0.0           0.0           0.0           0.0           0.0           0.0  0.000000e+00      0.000000           0.0           0.0  0.000000e+00  0.000000e+00           0.0  0.000000e+00\n",
       "8183  0.000000e+00           0.0           0.0           0.0           0.0           0.0           0.0  0.000000e+00      0.000000           0.0           0.0  0.000000e+00  0.000000e+00           0.0  7.459833e-08\n",
       "8930  0.000000e+00           0.0           0.0           0.0           0.0           0.0           0.0  2.136346e-07      0.000000           0.0           0.0  0.000000e+00  0.000000e+00           0.0  3.743471e-07\n",
       "9430  0.000000e+00           0.0           0.0           0.0           0.0           0.0           0.0  0.000000e+00      0.000004           0.0           0.0  0.000000e+00  8.707408e-07           0.0  1.335932e-06\n",
       "9789  0.000000e+00           0.0           0.0           0.0           0.0           0.0           0.0  0.000000e+00      0.000000           0.0           0.0  0.000000e+00  0.000000e+00           0.0  2.215347e-07"
      ]
     },
     "execution_count": 44,
     "metadata": {},
     "output_type": "execute_result"
    }
   ],
   "source": [
    "pd.set_option('display.height', 1000)\n",
    "pd.set_option('display.max_rows', 500)\n",
    "pd.set_option('display.max_columns', 500)\n",
    "pd.set_option('display.width', 1000)\n",
    "\n",
    "CD_df[indx]"
   ]
  },
  {
   "cell_type": "code",
   "execution_count": 40,
   "metadata": {
    "collapsed": false
   },
   "outputs": [
    {
     "data": {
      "text/plain": [
       "24      6.865259e-06\n",
       "560     6.659821e-06\n",
       "872     1.975040e-06\n",
       "2454    4.297484e-07\n",
       "3175    9.335202e-07\n",
       "3985    8.150066e-07\n",
       "4860    2.212602e-06\n",
       "5462    2.065426e-06\n",
       "5738    8.923934e-07\n",
       "5759    1.994502e-07\n",
       "5963    8.547082e-07\n",
       "8183    1.083782e-07\n",
       "8930    6.053538e-07\n",
       "9430    1.074654e-07\n",
       "9789    4.302703e-07\n",
       "dtype: float64"
      ]
     },
     "execution_count": 40,
     "metadata": {},
     "output_type": "execute_result"
    }
   ],
   "source": [
    "HE_median[indx]"
   ]
  },
  {
   "cell_type": "code",
   "execution_count": 41,
   "metadata": {
    "collapsed": false
   },
   "outputs": [
    {
     "data": {
      "text/plain": [
       "24      0.0\n",
       "560     0.0\n",
       "872     0.0\n",
       "2454    0.0\n",
       "3175    0.0\n",
       "3985    0.0\n",
       "4860    0.0\n",
       "5462    0.0\n",
       "5738    0.0\n",
       "5759    0.0\n",
       "5963    0.0\n",
       "8183    0.0\n",
       "8930    0.0\n",
       "9430    0.0\n",
       "9789    0.0\n",
       "dtype: float64"
      ]
     },
     "execution_count": 41,
     "metadata": {},
     "output_type": "execute_result"
    }
   ],
   "source": [
    "LS_median[indx]"
   ]
  },
  {
   "cell_type": "code",
   "execution_count": 42,
   "metadata": {
    "collapsed": false
   },
   "outputs": [
    {
     "data": {
      "text/plain": [
       "24      0.0\n",
       "560     0.0\n",
       "872     0.0\n",
       "2454    0.0\n",
       "3175    0.0\n",
       "3985    0.0\n",
       "4860    0.0\n",
       "5462    0.0\n",
       "5738    0.0\n",
       "5759    0.0\n",
       "5963    0.0\n",
       "8183    0.0\n",
       "8930    0.0\n",
       "9430    0.0\n",
       "9789    0.0\n",
       "dtype: float64"
      ]
     },
     "execution_count": 42,
     "metadata": {},
     "output_type": "execute_result"
    }
   ],
   "source": [
    "UC_median[indx]"
   ]
  },
  {
   "cell_type": "code",
   "execution_count": 43,
   "metadata": {
    "collapsed": false
   },
   "outputs": [
    {
     "data": {
      "text/plain": [
       "24      0.0\n",
       "560     0.0\n",
       "872     0.0\n",
       "2454    0.0\n",
       "3175    0.0\n",
       "3985    0.0\n",
       "4860    0.0\n",
       "5462    0.0\n",
       "5738    0.0\n",
       "5759    0.0\n",
       "5963    0.0\n",
       "8183    0.0\n",
       "8930    0.0\n",
       "9430    0.0\n",
       "9789    0.0\n",
       "dtype: float64"
      ]
     },
     "execution_count": 43,
     "metadata": {},
     "output_type": "execute_result"
    }
   ],
   "source": [
    "CD_median[indx]"
   ]
  },
  {
   "cell_type": "code",
   "execution_count": null,
   "metadata": {
    "collapsed": true
   },
   "outputs": [],
   "source": []
  }
 ],
 "metadata": {
  "kernelspec": {
   "display_name": "Python 2",
   "language": "python",
   "name": "python2"
  },
  "language_info": {
   "codemirror_mode": {
    "name": "ipython",
    "version": 2
   },
   "file_extension": ".py",
   "mimetype": "text/x-python",
   "name": "python",
   "nbconvert_exporter": "python",
   "pygments_lexer": "ipython2",
   "version": "2.7.12"
  }
 },
 "nbformat": 4,
 "nbformat_minor": 0
}
