{
 "cells": [
  {
   "cell_type": "code",
   "execution_count": 1,
   "metadata": {
    "collapsed": false
   },
   "outputs": [
    {
     "name": "stderr",
     "output_type": "stream",
     "text": [
      "Vendor:  Continuum Analytics, Inc.\n",
      "Package: mkl\n",
      "Message: trial mode expires in 27 days\n"
     ]
    }
   ],
   "source": [
    "import pandas as pd\n",
    "import numpy as np\n",
    "\n",
    "import matplotlib.pylab as plt\n",
    "%matplotlib inline"
   ]
  },
  {
   "cell_type": "code",
   "execution_count": 2,
   "metadata": {
    "collapsed": false
   },
   "outputs": [
    {
     "data": {
      "text/html": [
       "<div>\n",
       "<style scoped>\n",
       "    .dataframe tbody tr th:only-of-type {\n",
       "        vertical-align: middle;\n",
       "    }\n",
       "\n",
       "    .dataframe tbody tr th {\n",
       "        vertical-align: top;\n",
       "    }\n",
       "\n",
       "    .dataframe thead th {\n",
       "        text-align: right;\n",
       "    }\n",
       "</style>\n",
       "<table border=\"1\" class=\"dataframe\">\n",
       "  <thead>\n",
       "    <tr style=\"text-align: right;\">\n",
       "      <th></th>\n",
       "      <th>kegg</th>\n",
       "      <th>over.abundant.health.conf</th>\n",
       "      <th>LS001</th>\n",
       "      <th>LS002</th>\n",
       "      <th>LS003</th>\n",
       "      <th>LS004</th>\n",
       "      <th>LS005</th>\n",
       "      <th>LS006</th>\n",
       "      <th>LS007</th>\n",
       "      <th>CD.SRS301865</th>\n",
       "      <th>...</th>\n",
       "      <th>HE.SRS016335</th>\n",
       "      <th>HE.SRS016495</th>\n",
       "      <th>HE.SRS017103</th>\n",
       "      <th>HE.SRS017433</th>\n",
       "      <th>HE.SRS018427</th>\n",
       "      <th>HE.SRS018656</th>\n",
       "      <th>HE.SRS020328</th>\n",
       "      <th>HE.SRS020869</th>\n",
       "      <th>HE.SRS022713</th>\n",
       "      <th>HE.SRS016585.suspect</th>\n",
       "    </tr>\n",
       "  </thead>\n",
       "  <tbody>\n",
       "    <tr>\n",
       "      <th>0</th>\n",
       "      <td>K00001(alcohol_dehydrogenase)</td>\n",
       "      <td>0.366</td>\n",
       "      <td>0.005732</td>\n",
       "      <td>0.006140</td>\n",
       "      <td>0.006243</td>\n",
       "      <td>0.005962</td>\n",
       "      <td>0.008011</td>\n",
       "      <td>0.004744</td>\n",
       "      <td>0.005444</td>\n",
       "      <td>0.005043</td>\n",
       "      <td>...</td>\n",
       "      <td>0.002705</td>\n",
       "      <td>0.005025</td>\n",
       "      <td>0.003359</td>\n",
       "      <td>0.004281</td>\n",
       "      <td>0.003052</td>\n",
       "      <td>0.003625</td>\n",
       "      <td>0.002673</td>\n",
       "      <td>0.003999</td>\n",
       "      <td>0.003734</td>\n",
       "      <td>8.220359e-03</td>\n",
       "    </tr>\n",
       "    <tr>\n",
       "      <th>1</th>\n",
       "      <td>K00002(alcohol_dehydrogenase_(NADP+))</td>\n",
       "      <td>0.312</td>\n",
       "      <td>0.000382</td>\n",
       "      <td>0.000409</td>\n",
       "      <td>0.000610</td>\n",
       "      <td>0.000533</td>\n",
       "      <td>0.000313</td>\n",
       "      <td>0.000412</td>\n",
       "      <td>0.000390</td>\n",
       "      <td>0.001005</td>\n",
       "      <td>...</td>\n",
       "      <td>0.000461</td>\n",
       "      <td>0.000255</td>\n",
       "      <td>0.000071</td>\n",
       "      <td>0.000014</td>\n",
       "      <td>0.000248</td>\n",
       "      <td>0.000649</td>\n",
       "      <td>0.000151</td>\n",
       "      <td>0.000157</td>\n",
       "      <td>0.000000</td>\n",
       "      <td>4.812945e-07</td>\n",
       "    </tr>\n",
       "    <tr>\n",
       "      <th>2</th>\n",
       "      <td>K00003(homoserine_dehydrogenase)</td>\n",
       "      <td>0.310</td>\n",
       "      <td>0.000855</td>\n",
       "      <td>0.001034</td>\n",
       "      <td>0.001125</td>\n",
       "      <td>0.001074</td>\n",
       "      <td>0.001224</td>\n",
       "      <td>0.000721</td>\n",
       "      <td>0.000786</td>\n",
       "      <td>0.001025</td>\n",
       "      <td>...</td>\n",
       "      <td>0.000195</td>\n",
       "      <td>0.001063</td>\n",
       "      <td>0.000249</td>\n",
       "      <td>0.000131</td>\n",
       "      <td>0.000351</td>\n",
       "      <td>0.000676</td>\n",
       "      <td>0.000430</td>\n",
       "      <td>0.000318</td>\n",
       "      <td>0.000050</td>\n",
       "      <td>1.209999e-06</td>\n",
       "    </tr>\n",
       "    <tr>\n",
       "      <th>3</th>\n",
       "      <td>K00004((R,R)-butanediol_dehydrogenase_/_diacet...</td>\n",
       "      <td>0.192</td>\n",
       "      <td>0.000091</td>\n",
       "      <td>0.000106</td>\n",
       "      <td>0.000149</td>\n",
       "      <td>0.000116</td>\n",
       "      <td>0.000064</td>\n",
       "      <td>0.000084</td>\n",
       "      <td>0.000080</td>\n",
       "      <td>0.000016</td>\n",
       "      <td>...</td>\n",
       "      <td>0.000006</td>\n",
       "      <td>0.000025</td>\n",
       "      <td>0.000008</td>\n",
       "      <td>0.000008</td>\n",
       "      <td>0.000014</td>\n",
       "      <td>0.000039</td>\n",
       "      <td>0.000068</td>\n",
       "      <td>0.000010</td>\n",
       "      <td>0.000006</td>\n",
       "      <td>4.127393e-04</td>\n",
       "    </tr>\n",
       "    <tr>\n",
       "      <th>4</th>\n",
       "      <td>K00005(glycerol_dehydrogenase)</td>\n",
       "      <td>0.004</td>\n",
       "      <td>0.000167</td>\n",
       "      <td>0.000236</td>\n",
       "      <td>0.000223</td>\n",
       "      <td>0.000203</td>\n",
       "      <td>0.000218</td>\n",
       "      <td>0.000144</td>\n",
       "      <td>0.000143</td>\n",
       "      <td>0.000166</td>\n",
       "      <td>...</td>\n",
       "      <td>0.000012</td>\n",
       "      <td>0.000427</td>\n",
       "      <td>0.000030</td>\n",
       "      <td>0.000004</td>\n",
       "      <td>0.000034</td>\n",
       "      <td>0.000036</td>\n",
       "      <td>0.000055</td>\n",
       "      <td>0.000065</td>\n",
       "      <td>0.000000</td>\n",
       "      <td>2.158647e-04</td>\n",
       "    </tr>\n",
       "  </tbody>\n",
       "</table>\n",
       "<p>5 rows × 65 columns</p>\n",
       "</div>"
      ],
      "text/plain": [
       "                                                kegg  \\\n",
       "0                      K00001(alcohol_dehydrogenase)   \n",
       "1              K00002(alcohol_dehydrogenase_(NADP+))   \n",
       "2                   K00003(homoserine_dehydrogenase)   \n",
       "3  K00004((R,R)-butanediol_dehydrogenase_/_diacet...   \n",
       "4                     K00005(glycerol_dehydrogenase)   \n",
       "\n",
       "   over.abundant.health.conf     LS001     LS002     LS003     LS004  \\\n",
       "0                      0.366  0.005732  0.006140  0.006243  0.005962   \n",
       "1                      0.312  0.000382  0.000409  0.000610  0.000533   \n",
       "2                      0.310  0.000855  0.001034  0.001125  0.001074   \n",
       "3                      0.192  0.000091  0.000106  0.000149  0.000116   \n",
       "4                      0.004  0.000167  0.000236  0.000223  0.000203   \n",
       "\n",
       "      LS005     LS006     LS007  CD.SRS301865          ...           \\\n",
       "0  0.008011  0.004744  0.005444      0.005043          ...            \n",
       "1  0.000313  0.000412  0.000390      0.001005          ...            \n",
       "2  0.001224  0.000721  0.000786      0.001025          ...            \n",
       "3  0.000064  0.000084  0.000080      0.000016          ...            \n",
       "4  0.000218  0.000144  0.000143      0.000166          ...            \n",
       "\n",
       "   HE.SRS016335  HE.SRS016495  HE.SRS017103  HE.SRS017433  HE.SRS018427  \\\n",
       "0      0.002705      0.005025      0.003359      0.004281      0.003052   \n",
       "1      0.000461      0.000255      0.000071      0.000014      0.000248   \n",
       "2      0.000195      0.001063      0.000249      0.000131      0.000351   \n",
       "3      0.000006      0.000025      0.000008      0.000008      0.000014   \n",
       "4      0.000012      0.000427      0.000030      0.000004      0.000034   \n",
       "\n",
       "   HE.SRS018656  HE.SRS020328  HE.SRS020869  HE.SRS022713  \\\n",
       "0      0.003625      0.002673      0.003999      0.003734   \n",
       "1      0.000649      0.000151      0.000157      0.000000   \n",
       "2      0.000676      0.000430      0.000318      0.000050   \n",
       "3      0.000039      0.000068      0.000010      0.000006   \n",
       "4      0.000036      0.000055      0.000065      0.000000   \n",
       "\n",
       "   HE.SRS016585.suspect  \n",
       "0          8.220359e-03  \n",
       "1          4.812945e-07  \n",
       "2          1.209999e-06  \n",
       "3          4.127393e-04  \n",
       "4          2.158647e-04  \n",
       "\n",
       "[5 rows x 65 columns]"
      ]
     },
     "execution_count": 2,
     "metadata": {},
     "output_type": "execute_result"
    }
   ],
   "source": [
    "df = pd.read_csv(\"../data/keggs-subjects-rf-scores.csv\")\n",
    "\n",
    "df.head()"
   ]
  },
  {
   "cell_type": "code",
   "execution_count": 3,
   "metadata": {
    "collapsed": false
   },
   "outputs": [
    {
     "data": {
      "text/plain": [
       "array([ True,  True,  True,  True,  True,  True,  True, False, False,\n",
       "       False, False, False, False, False, False, False, False, False,\n",
       "       False, False, False, False, False, False, False, False, False,\n",
       "       False, False, False, False, False, False, False, False, False,\n",
       "       False, False, False, False, False, False, False, False, False,\n",
       "       False, False, False, False, False, False, False, False, False,\n",
       "       False, False, False, False, False, False, False, False, False], dtype=bool)"
      ]
     },
     "execution_count": 3,
     "metadata": {},
     "output_type": "execute_result"
    }
   ],
   "source": [
    "# trying to figure out which columns of the data frame correspond to columns:\n",
    "# looks like its columns 2 until end\n",
    "\n",
    "df.iloc[:, 2:].columns.str.contains(\"LS\")"
   ]
  },
  {
   "cell_type": "code",
   "execution_count": 4,
   "metadata": {
    "collapsed": true
   },
   "outputs": [],
   "source": [
    "X = df.iloc[:,2:].values.T\n",
    "\n",
    "y = np.zeros(X.shape[0]) # 0 is healthy\n",
    "\n",
    "y[np.where(df.iloc[:, 2:].columns.str.contains(\"LS\"))[0]] = 1 # 1 is LS\n",
    "y[np.where(df.iloc[:, 2:].columns.str.contains(\"CD\"))[0]] = 2 # 1 is LS\n",
    "y[np.where(df.iloc[:, 2:].columns.str.contains(\"UC\"))[0]] = 3 # 1 is LS"
   ]
  },
  {
   "cell_type": "code",
   "execution_count": 5,
   "metadata": {
    "collapsed": true
   },
   "outputs": [],
   "source": [
    "from sklearn.linear_model import LogisticRegression\n",
    "from sklearn.pipeline import Pipeline\n",
    "from sklearn.model_selection import GridSearchCV\n",
    "from sklearn.feature_selection import SelectKBest"
   ]
  },
  {
   "cell_type": "markdown",
   "metadata": {},
   "source": [
    "## Logistic Regression"
   ]
  },
  {
   "cell_type": "code",
   "execution_count": 6,
   "metadata": {
    "collapsed": true
   },
   "outputs": [],
   "source": [
    "LR = LogisticRegression()"
   ]
  },
  {
   "cell_type": "code",
   "execution_count": 7,
   "metadata": {
    "collapsed": false
   },
   "outputs": [
    {
     "data": {
      "text/plain": [
       "LogisticRegression(C=1.0, class_weight=None, dual=False, fit_intercept=True,\n",
       "          intercept_scaling=1, max_iter=100, multi_class='ovr', n_jobs=1,\n",
       "          penalty='l2', random_state=None, solver='liblinear', tol=0.0001,\n",
       "          verbose=0, warm_start=False)"
      ]
     },
     "execution_count": 7,
     "metadata": {},
     "output_type": "execute_result"
    }
   ],
   "source": [
    "LR.fit(np.log10(1e-9+ X), y)"
   ]
  },
  {
   "cell_type": "code",
   "execution_count": 8,
   "metadata": {
    "collapsed": false
   },
   "outputs": [
    {
     "data": {
      "text/plain": [
       "0.01387820335660426"
      ]
     },
     "execution_count": 8,
     "metadata": {},
     "output_type": "execute_result"
    }
   ],
   "source": [
    "np.max(LR.coef_[0,:])"
   ]
  },
  {
   "cell_type": "code",
   "execution_count": 9,
   "metadata": {
    "collapsed": false
   },
   "outputs": [
    {
     "data": {
      "text/plain": [
       "-0.013385002060910815"
      ]
     },
     "execution_count": 9,
     "metadata": {},
     "output_type": "execute_result"
    }
   ],
   "source": [
    "np.min(LR.coef_[0,:])"
   ]
  },
  {
   "cell_type": "code",
   "execution_count": 10,
   "metadata": {
    "collapsed": false
   },
   "outputs": [
    {
     "data": {
      "text/plain": [
       "1.0"
      ]
     },
     "execution_count": 10,
     "metadata": {},
     "output_type": "execute_result"
    }
   ],
   "source": [
    "LR.score(np.log10(1e-9+ X), y)"
   ]
  },
  {
   "cell_type": "code",
   "execution_count": 11,
   "metadata": {
    "collapsed": false
   },
   "outputs": [],
   "source": [
    "clf_pipe = Pipeline([\n",
    "    ('classify', LogisticRegression())\n",
    "])\n",
    "\n",
    "param_grid = [\n",
    "    { 'classify__C':np.logspace(start = -3, stop = 3, num = 50)\n",
    "    }\n",
    "]\n"
   ]
  },
  {
   "cell_type": "code",
   "execution_count": 12,
   "metadata": {
    "collapsed": false
   },
   "outputs": [
    {
     "name": "stdout",
     "output_type": "stream",
     "text": [
      "CPU times: user 3.29 s, sys: 127 ms, total: 3.42 s\n",
      "Wall time: 11.1 s\n"
     ]
    }
   ],
   "source": [
    "%%time \n",
    "lr_grid = GridSearchCV(clf_pipe, cv=3, n_jobs=-2, param_grid=param_grid)\n",
    "lr_grid.fit(np.log10(1e-9+ X), y)"
   ]
  },
  {
   "cell_type": "code",
   "execution_count": 13,
   "metadata": {
    "collapsed": false
   },
   "outputs": [
    {
     "data": {
      "text/plain": [
       "0.95238095238095233"
      ]
     },
     "execution_count": 13,
     "metadata": {},
     "output_type": "execute_result"
    }
   ],
   "source": [
    "lr_grid.best_score_"
   ]
  },
  {
   "cell_type": "markdown",
   "metadata": {},
   "source": [
    "## Random Forests"
   ]
  },
  {
   "cell_type": "code",
   "execution_count": 14,
   "metadata": {
    "collapsed": true
   },
   "outputs": [],
   "source": [
    "from sklearn.ensemble import RandomForestClassifier"
   ]
  },
  {
   "cell_type": "code",
   "execution_count": 15,
   "metadata": {
    "collapsed": false
   },
   "outputs": [],
   "source": [
    "####\n",
    "## TODO: proper gridsearch and cross validation\n",
    "###\n",
    "\n",
    "# clf_pipe = Pipeline([\n",
    "#     ('RF', RandomForestClassifier(n_estimators=1000, n_jobs=-2))\n",
    "# ])\n",
    "\n",
    "# param_grid = [\n",
    "#     { 'RF__min_samples_split': [2, 3, 5, 10]\n",
    "#     }\n",
    "# ]\n",
    "# %%time \n",
    "# lr_grid = GridSearchCV(clf_pipe, cv=3, n_jobs=1, param_grid=param_grid)\n",
    "# lr_grid.fit(np.log10(1e-9+ X), y)"
   ]
  },
  {
   "cell_type": "code",
   "execution_count": 16,
   "metadata": {
    "collapsed": true
   },
   "outputs": [],
   "source": [
    "RF = RandomForestClassifier(n_estimators=1000, n_jobs=-2, oob_score=True)"
   ]
  },
  {
   "cell_type": "code",
   "execution_count": 17,
   "metadata": {
    "collapsed": false
   },
   "outputs": [
    {
     "data": {
      "text/plain": [
       "RandomForestClassifier(bootstrap=True, class_weight=None, criterion='gini',\n",
       "            max_depth=None, max_features='auto', max_leaf_nodes=None,\n",
       "            min_impurity_split=1e-07, min_samples_leaf=1,\n",
       "            min_samples_split=2, min_weight_fraction_leaf=0.0,\n",
       "            n_estimators=1000, n_jobs=-2, oob_score=True,\n",
       "            random_state=None, verbose=0, warm_start=False)"
      ]
     },
     "execution_count": 17,
     "metadata": {},
     "output_type": "execute_result"
    }
   ],
   "source": [
    "RF.fit(np.log10(1e-9+ X), y)"
   ]
  },
  {
   "cell_type": "code",
   "execution_count": 18,
   "metadata": {
    "collapsed": false
   },
   "outputs": [
    {
     "data": {
      "text/plain": [
       "<matplotlib.text.Text at 0x11739cc50>"
      ]
     },
     "execution_count": 18,
     "metadata": {},
     "output_type": "execute_result"
    },
    {
     "data": {
      "image/png": "[encoded data removed]",
      "text/plain": [
       "<matplotlib.figure.Figure at 0x1173ba450>"
      ]
     },
     "metadata": {},
     "output_type": "display_data"
    }
   ],
   "source": [
    "plt.plot(np.sort(RF.feature_importances_))\n",
    "plt.title(\"RF Feature Importance\")"
   ]
  },
  {
   "cell_type": "code",
   "execution_count": 19,
   "metadata": {
    "collapsed": false
   },
   "outputs": [
    {
     "data": {
      "text/plain": [
       "1.0"
      ]
     },
     "execution_count": 19,
     "metadata": {},
     "output_type": "execute_result"
    }
   ],
   "source": [
    "## too good to be true\n",
    "RF.score(np.log10(1e-9+ X), y)"
   ]
  },
  {
   "cell_type": "code",
   "execution_count": 39,
   "metadata": {
    "collapsed": false
   },
   "outputs": [
    {
     "data": {
      "text/plain": [
       "86"
      ]
     },
     "execution_count": 39,
     "metadata": {},
     "output_type": "execute_result"
    }
   ],
   "source": [
    "len(RF.feature_importances_[RF.feature_importances_>2e-3])"
   ]
  },
  {
   "cell_type": "code",
   "execution_count": 40,
   "metadata": {
    "collapsed": false
   },
   "outputs": [
    {
     "name": "stdout",
     "output_type": "stream",
     "text": [
      "CPU times: user 1.19 s, sys: 276 ms, total: 1.46 s\n",
      "Wall time: 1.38 s\n"
     ]
    }
   ],
   "source": [
    "%%time \n",
    "##\n",
    "# lets see if these important features imprve logistic regression\n",
    "##\n",
    "\n",
    "clf_pipe = Pipeline([\n",
    "    ('classify', LogisticRegression())\n",
    "])\n",
    "\n",
    "param_grid = [\n",
    "    { 'classify__C':np.logspace(start = -3, stop = 3, num = 50)\n",
    "    }\n",
    "]\n",
    "\n",
    "\n",
    "\n",
    "lr_grid = GridSearchCV(clf_pipe, cv=3, n_jobs=-2, param_grid=param_grid)\n",
    "lr_grid.fit(np.log10(1e-9+ X[:, RF.feature_importances_>2e-3]), y)"
   ]
  },
  {
   "cell_type": "code",
   "execution_count": 41,
   "metadata": {
    "collapsed": false
   },
   "outputs": [
    {
     "data": {
      "text/plain": [
       "0.98412698412698407"
      ]
     },
     "execution_count": 41,
     "metadata": {},
     "output_type": "execute_result"
    }
   ],
   "source": [
    "lr_grid.best_score_"
   ]
  },
  {
   "cell_type": "code",
   "execution_count": 42,
   "metadata": {
    "collapsed": false
   },
   "outputs": [],
   "source": [
    "RF_KEGGs_df = pd.DataFrame({\"RF KEGGS\": df[\"kegg\"][RF.feature_importances_>2e-3]})"
   ]
  },
  {
   "cell_type": "code",
   "execution_count": 43,
   "metadata": {
    "collapsed": true
   },
   "outputs": [],
   "source": [
    "RF_KEGGs_df.to_csv(\"../results/KEGGs-RF-multiclassificaiton_2018-03-11.csv\", index = False)"
   ]
  },
  {
   "cell_type": "code",
   "execution_count": null,
   "metadata": {
    "collapsed": true
   },
   "outputs": [],
   "source": []
  }
 ],
 "metadata": {
  "kernelspec": {
   "display_name": "Python 2",
   "language": "python",
   "name": "python2"
  },
  "language_info": {
   "codemirror_mode": {
    "name": "ipython",
    "version": 2
   },
   "file_extension": ".py",
   "mimetype": "text/x-python",
   "name": "python",
   "nbconvert_exporter": "python",
   "pygments_lexer": "ipython2",
   "version": "2.7.12"
  }
 },
 "nbformat": 4,
 "nbformat_minor": 0
}
